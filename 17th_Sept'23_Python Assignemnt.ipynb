{
 "cells": [
  {
   "cell_type": "markdown",
   "id": "9cee9f69-66ff-4f1f-9bb5-195d8ca62660",
   "metadata": {},
   "source": [
    "For Loop :-"
   ]
  },
  {
   "cell_type": "markdown",
   "id": "d120879b-e430-4b53-8b29-25a6be62d827",
   "metadata": {},
   "source": [
    "1. Write a Python program to print numbers from 1 to 10 using a for loop."
   ]
  },
  {
   "cell_type": "code",
   "execution_count": 4,
   "id": "d026e973-1071-4e7b-abdb-e4f3aacfeb5b",
   "metadata": {},
   "outputs": [
    {
     "name": "stdout",
     "output_type": "stream",
     "text": [
      "1\n",
      "2\n",
      "3\n",
      "4\n",
      "5\n",
      "6\n",
      "7\n",
      "8\n",
      "9\n",
      "10\n"
     ]
    }
   ],
   "source": [
    "for number in range(1,11):\n",
    " print (number)"
   ]
  },
  {
   "cell_type": "markdown",
   "id": "e7bf6ccb-55f4-4eba-bd19-81eade883fa7",
   "metadata": {},
   "source": [
    "2. Explain the difference between a for loop and a while loop in Python.\n",
    "\n",
    "For Loop: \n",
    "1. A for loop is used for specific sequence (like a list, tuple, string, or range) and to iterate over each item in the sequence. For loops are primarily used for iterating the sequence.\n",
    "2. For loops don't require explicit initialization of a loop variable; they automatically iterate over the items in a sequence.\n",
    "3. The syntax for a for loop includes the for keyword followed by a loop variable, the in keyword, and a sequence\n",
    "\n",
    "\n",
    "While Loop: \n",
    "1. A while loop is used to repeat a block of code with  a certain condition is true or meet that condition.\n",
    "2. While loops require explicit initialization of a loop control variable before entering the loop.Need to update this variable inside the loop to eventually make the condition false and exit the loop.\n",
    "3. The syntax for a while loop includes the while keyword followed by a condition. Need to manually manage the loop control variable and update it within the loop."
   ]
  },
  {
   "cell_type": "markdown",
   "id": "fb57b27b-fe5c-4a9c-964c-06873001aec4",
   "metadata": {},
   "source": [
    "for Loop Example :\n",
    "    \n",
    "numbers = [1, 2, 3, 4, 5]\n",
    "for num in numbers:\n",
    "    print(num)\n",
    "\n",
    "while loop example:\n",
    "\n",
    "count = 1\n",
    "while count <= 5:\n",
    "    print(count)\n",
    "    count += 1"
   ]
  },
  {
   "cell_type": "markdown",
   "id": "d2b40d9d-b492-405c-bc79-7555822d6ec2",
   "metadata": {},
   "source": [
    "3. Write a Python program to calculate the sum of all numbers from 1 to 100 using a for loop."
   ]
  },
  {
   "cell_type": "code",
   "execution_count": 1,
   "id": "83fafb2d-1c63-45cc-8deb-1e5a4bab114c",
   "metadata": {},
   "outputs": [
    {
     "name": "stdout",
     "output_type": "stream",
     "text": [
      "The sum of numbers from 1 to 100 is: 5050\n"
     ]
    }
   ],
   "source": [
    "# Initialize a variable to store the sum\n",
    "total = 0\n",
    "\n",
    "# Use a for loop to iterate through numbers from 1 to 100\n",
    "for num in range(1, 101):\n",
    "    total += num\n",
    "\n",
    "# Print the result\n",
    "print(\"The sum of numbers from 1 to 100 is:\", total)"
   ]
  },
  {
   "cell_type": "markdown",
   "id": "80eea88a-0f4b-4f34-9352-be9dd756df0c",
   "metadata": {},
   "source": [
    "\n",
    "4. How do you iterate through a list using a for loop in Python?\n",
    "\n",
    "will define list named my_list and  for loop with the for keyword, followed by a loop variable the in keyword.\n",
    "Inside the loop, I will define list of element, and it takes on the value of each element in the list one by one, and with the help of loop we can perform the actions\n"
   ]
  },
  {
   "cell_type": "code",
   "execution_count": 2,
   "id": "ea38f803-8c3a-4c13-96cf-0baa0c361200",
   "metadata": {},
   "outputs": [
    {
     "name": "stdout",
     "output_type": "stream",
     "text": [
      "1\n",
      "2\n",
      "3\n",
      "4\n",
      "5\n"
     ]
    }
   ],
   "source": [
    "my_list = [1,2,3,4,5]\n",
    "\n",
    "for item in my_list:\n",
    "    print(item)"
   ]
  },
  {
   "cell_type": "markdown",
   "id": "6d88beae-7ff8-4b03-9711-48e9c85c65a6",
   "metadata": {},
   "source": [
    "5. Write a Python program to find the product of all elements in a list using a for loop."
   ]
  },
  {
   "cell_type": "code",
   "execution_count": 6,
   "id": "f98c8e9f-3ea3-4641-8214-7910ae72b85e",
   "metadata": {},
   "outputs": [
    {
     "name": "stdout",
     "output_type": "stream",
     "text": [
      "The product is: 120\n"
     ]
    }
   ],
   "source": [
    "product = 1\n",
    "\n",
    "my_list = [2,3,4,5]\n",
    "\n",
    "for number in my_list:\n",
    "    product *= number\n",
    "\n",
    "print(\"The product is:\", product);"
   ]
  },
  {
   "cell_type": "markdown",
   "id": "70dbb325-d22b-49cc-bafb-6d5b90e7df60",
   "metadata": {},
   "source": [
    "6. Create a Python program that prints all even numbers from 1 to 20 using a for loop."
   ]
  },
  {
   "cell_type": "code",
   "execution_count": 16,
   "id": "3c2c8e2e-e505-4867-9aa0-a161d299b8f7",
   "metadata": {},
   "outputs": [
    {
     "name": "stdout",
     "output_type": "stream",
     "text": [
      "2\n",
      "4\n",
      "6\n",
      "8\n",
      "10\n",
      "12\n",
      "14\n",
      "16\n",
      "18\n",
      "20\n"
     ]
    }
   ],
   "source": [
    "for num in range(1, 21):\n",
    "    # Check if the number is even\n",
    "    if num % 2 == 0:\n",
    "        print(num)"
   ]
  },
  {
   "cell_type": "markdown",
   "id": "7d611ee2-3fe7-42d1-84a1-e8077177138c",
   "metadata": {},
   "source": [
    "7. Write a Python program that calculates the factorial of a number using a for loop."
   ]
  },
  {
   "cell_type": "code",
   "execution_count": 5,
   "id": "9f64f51b-0292-4a4c-8d16-eafb25f5bdb0",
   "metadata": {},
   "outputs": [
    {
     "name": "stdin",
     "output_type": "stream",
     "text": [
      "Enter a number:  5\n"
     ]
    },
    {
     "name": "stdout",
     "output_type": "stream",
     "text": [
      "The factorial of 5 is 120\n"
     ]
    }
   ],
   "source": [
    "num = int(input(\"Enter a number: \"))\n",
    "\n",
    "factorial = 1\n",
    "\n",
    "# Calculate the factorial using a for loop\n",
    "for i in range(1, num + 1):\n",
    "    factorial *= i\n",
    "\n",
    "print(f\"The factorial of {num} is {factorial}\")"
   ]
  },
  {
   "cell_type": "markdown",
   "id": "9345d804-3c1f-4271-8410-371088216fb4",
   "metadata": {},
   "source": [
    "8. How can you iterate through the characters of a string using a for loop in Python?\n",
    "\n"
   ]
  },
  {
   "cell_type": "code",
   "execution_count": 9,
   "id": "7a6b4ecd-f0e1-449d-8a1b-b787b298e097",
   "metadata": {},
   "outputs": [
    {
     "name": "stdout",
     "output_type": "stream",
     "text": [
      "H\n",
      "e\n",
      "l\n",
      "l\n",
      "o\n",
      " \n",
      "K\n",
      "i\n",
      "t\n",
      "t\n",
      "y\n"
     ]
    }
   ],
   "source": [
    "my_string = \"Hello Kitty\"\n",
    "\n",
    "for i in my_string:\n",
    "    print (i)"
   ]
  },
  {
   "cell_type": "markdown",
   "id": "01c6009c-3232-45bd-973c-38f1477a981f",
   "metadata": {},
   "source": [
    "9. Write a Python program to find the largest number in a list using a for loop."
   ]
  },
  {
   "cell_type": "code",
   "execution_count": 13,
   "id": "6adec2cf-a5c5-4c70-8f27-e44e0fe5f372",
   "metadata": {},
   "outputs": [
    {
     "name": "stdout",
     "output_type": "stream",
     "text": [
      "The largest number in the list is: 89\n"
     ]
    }
   ],
   "source": [
    "# Sample list of numbers (replace this with your own list)\n",
    "my_list = [12, 45, 78, 34, 56, 89, 23]\n",
    "\n",
    "# Initialize a variable to store the largest number\n",
    "largest = my_list[0]\n",
    "\n",
    "# Use a for loop to iterate through the list and find the largest number\n",
    "for num in my_list:\n",
    "    if num > largest:\n",
    "        largest = num\n",
    "\n",
    "# Print the result\n",
    "print(\"The largest number in the list is:\", largest)"
   ]
  },
  {
   "cell_type": "markdown",
   "id": "0f1fd49f-aae6-4d27-a9c5-aa9ead034071",
   "metadata": {},
   "source": [
    "10. Create a Python program that prints the Fibonacci sequence up to a specified limit using a for loop."
   ]
  },
  {
   "cell_type": "code",
   "execution_count": 15,
   "id": "ea5a66f2-7890-451c-a132-82b5b3130e8a",
   "metadata": {},
   "outputs": [
    {
     "name": "stdin",
     "output_type": "stream",
     "text": [
      "Enter the limit for the Fibonacci sequence:  5\n"
     ]
    },
    {
     "name": "stdout",
     "output_type": "stream",
     "text": [
      "0\n",
      "1\n",
      "1\n",
      "2\n",
      "3\n"
     ]
    }
   ],
   "source": [
    "def fibonacci(limit):\n",
    "    fib1, fib2 = 0, 1\n",
    "\n",
    "    # Print the first two numbers (0 and 1)\n",
    "    print(fib1)\n",
    "    print(fib2)\n",
    "\n",
    "    # Use a for loop to calculate and print the remaining Fibonacci numbers\n",
    "    for _ in range(2, limit):\n",
    "        fib = fib1 + fib2\n",
    "        print(fib)\n",
    "        fib1, fib2 = fib2, fib\n",
    "\n",
    "# Get the limit from the user\n",
    "limit = int(input(\"Enter the limit for the Fibonacci sequence: \"))\n",
    "\n",
    "fibonacci(limit)"
   ]
  },
  {
   "cell_type": "markdown",
   "id": "7a40373c-02eb-4349-9d17-1840c32fea85",
   "metadata": {},
   "source": [
    "11. Write a Python program to count the number of vowels in a given string using a for loop."
   ]
  },
  {
   "cell_type": "code",
   "execution_count": 16,
   "id": "5f71b023-9884-473d-801e-0451ce591012",
   "metadata": {},
   "outputs": [
    {
     "name": "stdin",
     "output_type": "stream",
     "text": [
      "Enter a string:  shweta\n"
     ]
    },
    {
     "name": "stdout",
     "output_type": "stream",
     "text": [
      "Number of vowels in the string: 2\n"
     ]
    }
   ],
   "source": [
    "# Function to count vowels in a string\n",
    "def count_vowels(input_string):\n",
    "    vowels = \"aeiouAEIOU\"\n",
    "    vowel_count = 0\n",
    "\n",
    "    for char in input_string:\n",
    "        if char in vowels:\n",
    "            vowel_count += 1\n",
    "\n",
    "    return vowel_count\n",
    "\n",
    "input_string = input(\"Enter a string: \")\n",
    "\n",
    "result = count_vowels(input_string)\n",
    "\n",
    "# Display the result\n",
    "print(\"Number of vowels in the string:\", result)"
   ]
  },
  {
   "cell_type": "markdown",
   "id": "b2406853-ee90-4bfc-85ea-02fa75a9322d",
   "metadata": {},
   "source": [
    "12. Create a Python program that generates a multiplication table for a given number using a for loop."
   ]
  },
  {
   "cell_type": "code",
   "execution_count": 17,
   "id": "58c3fc96-d50c-461f-bceb-e62ad57898a6",
   "metadata": {},
   "outputs": [
    {
     "name": "stdin",
     "output_type": "stream",
     "text": [
      "Enter a number:  50\n"
     ]
    },
    {
     "name": "stdout",
     "output_type": "stream",
     "text": [
      "Multiplication table for 50:\n",
      "50 x 1 = 50\n",
      "50 x 2 = 100\n",
      "50 x 3 = 150\n",
      "50 x 4 = 200\n",
      "50 x 5 = 250\n",
      "50 x 6 = 300\n",
      "50 x 7 = 350\n",
      "50 x 8 = 400\n",
      "50 x 9 = 450\n",
      "50 x 10 = 500\n"
     ]
    }
   ],
   "source": [
    "number = int(input(\"Enter a number: \"))\n",
    "\n",
    "# Define the range of the multiplication table (e.g., from 1 to 10)\n",
    "start = 1\n",
    "end = 10\n",
    "\n",
    "# Generate and display the multiplication table\n",
    "print(f\"Multiplication table for {number}:\")\n",
    "\n",
    "for i in range(start, end + 1):\n",
    "    result = number * i\n",
    "    print(f\"{number} x {i} = {result}\")"
   ]
  },
  {
   "cell_type": "markdown",
   "id": "2bc08fe4-afbb-492b-9211-e489a69d76ef",
   "metadata": {},
   "source": [
    "13. Write a Python program to reverse a list using a for loop."
   ]
  },
  {
   "cell_type": "code",
   "execution_count": 18,
   "id": "bfd13aba-17ef-4037-8156-f8330adb0b80",
   "metadata": {},
   "outputs": [
    {
     "name": "stdout",
     "output_type": "stream",
     "text": [
      "Original List: [1, 2, 3, 4, 5]\n",
      "Reversed List: [5, 4, 3, 2, 1]\n"
     ]
    }
   ],
   "source": [
    "my_list = [1, 2, 3, 4, 5]\n",
    "\n",
    "reversed_list = []\n",
    "\n",
    "# Use a for loop to reverse the list\n",
    "for item in my_list:\n",
    "    reversed_list.insert(0, item)\n",
    "\n",
    "# Print the reversed list\n",
    "print(\"Original List:\", my_list)\n",
    "print(\"Reversed List:\", reversed_list)"
   ]
  },
  {
   "cell_type": "markdown",
   "id": "9ac03044-0331-4d07-a179-d262656602ae",
   "metadata": {},
   "source": [
    "14. Write a Python program to find the common elements between two lists using a for loop."
   ]
  },
  {
   "cell_type": "code",
   "execution_count": 21,
   "id": "14775c4d-6636-4576-afc4-febeb7962c43",
   "metadata": {},
   "outputs": [
    {
     "name": "stdout",
     "output_type": "stream",
     "text": [
      "Elements are [1, 3, 4, 5]\n"
     ]
    }
   ],
   "source": [
    "list1 = [1,2,3,4,5]\n",
    "list2 = [3,4,5,6,1]\n",
    "\n",
    "common = []\n",
    "\n",
    "for item1 in list1:\n",
    "        for item2 in list2:\n",
    "            if item1 == item2:\n",
    "                common.append(item1)\n",
    "print(\"Elements are\", common )"
   ]
  },
  {
   "cell_type": "markdown",
   "id": "60c9dd1b-01fd-44ea-95b4-500c39ccf31d",
   "metadata": {},
   "source": [
    "15. Explain how to use a for loop to iterate through the keys and values of a dictionary in Python."
   ]
  },
  {
   "cell_type": "code",
   "execution_count": 22,
   "id": "987aeddc-0c2b-4fbe-8523-4896d3f3f282",
   "metadata": {},
   "outputs": [
    {
     "name": "stdout",
     "output_type": "stream",
     "text": [
      "Key: a, Value: 1\n",
      "Key: b, Value: 2\n",
      "Key: c, Value: 3\n"
     ]
    }
   ],
   "source": [
    "my_dict = {'a': 1, 'b': 2, 'c': 3}\n",
    "\n",
    "for key,value in my_dict.items():\n",
    "    print(f\"Key: {key}, Value: {value}\")"
   ]
  },
  {
   "cell_type": "markdown",
   "id": "2b1be506-a513-4642-b8a6-dee4b97fe2a2",
   "metadata": {},
   "source": [
    "16. Write a Python program to find the GCD (Greatest Common Divisor) of two numbers using a for loop."
   ]
  },
  {
   "cell_type": "code",
   "execution_count": 1,
   "id": "b1c5c9f8-85e9-4e3e-bbca-b52a43a99f2d",
   "metadata": {},
   "outputs": [
    {
     "name": "stdin",
     "output_type": "stream",
     "text": [
      "Enter the first number:  5\n",
      "Enter the second number:  50\n"
     ]
    },
    {
     "name": "stdout",
     "output_type": "stream",
     "text": [
      "The GCD of 5 and 50 is 5\n"
     ]
    }
   ],
   "source": [
    "# Function to find the GCD of two numbers using the Euclidean algorithm\n",
    "def find_gcd(a, b):\n",
    "    while b:\n",
    "        a, b = b, a % b\n",
    "    return a\n",
    "\n",
    "# Input: Get the two numbers from the user\n",
    "num1 = int(input(\"Enter the first number: \"))\n",
    "num2 = int(input(\"Enter the second number: \"))\n",
    "\n",
    "# Call the function to find the GCD\n",
    "gcd = find_gcd(num1, num2)\n",
    "\n",
    "# Display the GCD\n",
    "print(f\"The GCD of {num1} and {num2} is {gcd}\")"
   ]
  },
  {
   "cell_type": "markdown",
   "id": "7f63b0f5-565a-4190-ad3b-e68e7862108d",
   "metadata": {},
   "source": [
    "17. Create a Python program that checks if a string is a palindrome using a for loop."
   ]
  },
  {
   "cell_type": "code",
   "execution_count": 2,
   "id": "b98ee6e9-626b-4b86-aef1-b791443cbdb5",
   "metadata": {},
   "outputs": [
    {
     "name": "stdin",
     "output_type": "stream",
     "text": [
      "Enter a string:  madam\n"
     ]
    },
    {
     "name": "stdout",
     "output_type": "stream",
     "text": [
      "'madam' is a palindrome.\n"
     ]
    }
   ],
   "source": [
    "def is_palindrome(input_string):\n",
    "    clean_string = input_string.replace(\" \", \"\").lower()\n",
    "\n",
    "    left = 0\n",
    "    right = len(clean_string) - 1\n",
    "# Use a for loop to check characters from the start and end\n",
    "    for _ in range(len(clean_string) // 2):\n",
    "        if clean_string[left] != clean_string[right]:\n",
    "            return False\n",
    "        left += 1\n",
    "        right -= 1\n",
    "\n",
    "    return True\n",
    "\n",
    "input_string = input(\"Enter a string: \")\n",
    "\n",
    "if is_palindrome(input_string):\n",
    "    print(f\"'{input_string}' is a palindrome.\")\n",
    "else:\n",
    "    print(f\"'{input_string}' is not a palindrome.\")"
   ]
  },
  {
   "cell_type": "markdown",
   "id": "02b36b2c-2e67-49b8-85b2-c11fba5b2945",
   "metadata": {},
   "source": [
    "18. Write a Python program to remove duplicates from a list using a for loop."
   ]
  },
  {
   "cell_type": "code",
   "execution_count": 4,
   "id": "3b467829-e4ab-437e-8b67-ad28870cb04f",
   "metadata": {},
   "outputs": [
    {
     "name": "stdout",
     "output_type": "stream",
     "text": [
      "original list [1, 2, 3, 4, 5, 6, 6]\n",
      "new list [1, 2, 3, 4, 5, 6]\n"
     ]
    }
   ],
   "source": [
    "my_list = [1,2,3,4,5,6,6]\n",
    "\n",
    "unique_list = []\n",
    "\n",
    "for item in my_list:\n",
    "    if item not in unique_list:\n",
    "        unique_list.append(item)\n",
    "        \n",
    "print(\"original list\", my_list)\n",
    "print(\"new list\", unique_list)"
   ]
  },
  {
   "cell_type": "markdown",
   "id": "3338fd06-d659-4b5a-b4c1-7cfe01282d72",
   "metadata": {},
   "source": [
    "19. Create a Python program that counts the number of words in a sentence using a for loop."
   ]
  },
  {
   "cell_type": "code",
   "execution_count": 7,
   "id": "9acd6a7d-8eed-4623-8a82-0f7aab665498",
   "metadata": {},
   "outputs": [
    {
     "name": "stdin",
     "output_type": "stream",
     "text": [
      "Enter Sentence shweta rahul kadganche\n"
     ]
    },
    {
     "name": "stdout",
     "output_type": "stream",
     "text": [
      "Enter the word  count 3\n"
     ]
    }
   ],
   "source": [
    "sentence = input(\"Enter Sentence\")\n",
    "\n",
    "word_count = 0\n",
    "\n",
    "words = sentence.split()\n",
    "\n",
    "for i in words:\n",
    "    word_count += 1\n",
    "    \n",
    "print(\"Enter the word  count\", word_count)"
   ]
  },
  {
   "cell_type": "markdown",
   "id": "ce577630-3603-4c77-8ab2-6cae604f776c",
   "metadata": {},
   "source": [
    "20. Write a Python program to find the sum of all odd numbers from 1 to 50 using a for loop.\n"
   ]
  },
  {
   "cell_type": "code",
   "execution_count": 10,
   "id": "f8b46135-2a9e-4269-9852-986bf3b3571e",
   "metadata": {},
   "outputs": [
    {
     "name": "stdout",
     "output_type": "stream",
     "text": [
      "The sum is: 625\n"
     ]
    }
   ],
   "source": [
    "sum_of_number =  0\n",
    "\n",
    "for i in range(1,51):\n",
    "    if i%2 == 1:\n",
    "        sum_of_number += i\n",
    "        \n",
    "print(\"The sum is:\" , sum_of_number)"
   ]
  },
  {
   "cell_type": "markdown",
   "id": "6fc71cd2-4eed-4074-b6e0-0f6c30942937",
   "metadata": {},
   "source": [
    "21. Write a Python program that checks if a given year is a leap year using a for loop.\n"
   ]
  },
  {
   "cell_type": "code",
   "execution_count": 16,
   "id": "40472140-8e56-459f-8a6a-a22fa20dd417",
   "metadata": {},
   "outputs": [
    {
     "name": "stdin",
     "output_type": "stream",
     "text": [
      "Enter Year 2020\n"
     ]
    },
    {
     "name": "stdout",
     "output_type": "stream",
     "text": [
      "Leap Year 2020\n"
     ]
    }
   ],
   "source": [
    "year = int(input(\"Enter Year\"))\n",
    "\n",
    "if (year % 4 == 0 and year % 100 != 0) or (year % 400 == 0):\n",
    "    print(\"Leap Year\", year)\n",
    "else:\n",
    "    print(\"Not a leap year\", year)"
   ]
  },
  {
   "cell_type": "markdown",
   "id": "5092cfef-71cf-4c73-a694-9de14b1e31a3",
   "metadata": {},
   "source": [
    "22. Create a Python program that calculates the square root of a number using a for loop."
   ]
  },
  {
   "cell_type": "code",
   "execution_count": 18,
   "id": "7266421f-1cc4-4959-8967-dc20283ea6c9",
   "metadata": {},
   "outputs": [
    {
     "name": "stdin",
     "output_type": "stream",
     "text": [
      "Enter a number:  10\n"
     ]
    },
    {
     "name": "stdout",
     "output_type": "stream",
     "text": [
      "The square root of 10.0 is approximately 3.1622776604441363\n"
     ]
    }
   ],
   "source": [
    "number = float(input(\"Enter a number: \"))\n",
    "guess = number / 2.0\n",
    "\n",
    "# Set a tolerance level for approximation\n",
    "tolerance = 1e-6\n",
    "\n",
    "for _ in range(100):\n",
    "    new_guess = 0.5 * (guess + number / guess)\n",
    "    \n",
    "# Check if the difference between new_guess and guess is within the tolerance\n",
    "    if abs(new_guess - guess) < tolerance:\n",
    "        break  # Exit the loop if the guess is close enough\n",
    "    \n",
    "    guess = new_guess\n",
    "\n",
    "print(f\"The square root of {number} is approximately {guess}\")"
   ]
  },
  {
   "cell_type": "markdown",
   "id": "4a660074-f3ed-44a1-8bb5-b9ed3eed13fd",
   "metadata": {},
   "source": [
    "23. Write a Python program to find the LCM (Least Common Multiple) of two numbers using a for loop."
   ]
  },
  {
   "cell_type": "code",
   "execution_count": 19,
   "id": "21698616-abe8-4d3d-ac5d-6058105166b8",
   "metadata": {},
   "outputs": [
    {
     "name": "stdin",
     "output_type": "stream",
     "text": [
      "Enter the first number:  20\n",
      "Enter the second number:  30\n"
     ]
    },
    {
     "name": "stdout",
     "output_type": "stream",
     "text": [
      "The LCM of 20 and 30 is 60\n"
     ]
    }
   ],
   "source": [
    "def find_gcd(a, b):\n",
    "    while b:\n",
    "        a, b = b, a % b\n",
    "    return a\n",
    "\n",
    "def find_lcm(a, b):\n",
    "    return (a * b) // find_gcd(a, b)\n",
    "\n",
    "num1 = int(input(\"Enter the first number: \"))\n",
    "num2 = int(input(\"Enter the second number: \"))\n",
    "\n",
    "# Calculate the LCM\n",
    "lcm = find_lcm(num1, num2)\n",
    "\n",
    "print(f\"The LCM of {num1} and {num2} is {lcm}\")"
   ]
  },
  {
   "cell_type": "markdown",
   "id": "98b276b5-4ada-401a-ba03-d5a29e890482",
   "metadata": {},
   "source": [
    "If else :"
   ]
  },
  {
   "cell_type": "markdown",
   "id": "f1d0ed90-2a47-4831-bb92-63f101722b65",
   "metadata": {},
   "source": [
    "1. Write a Python program to check if a number is positive, negative, or zero using an if-else statement."
   ]
  },
  {
   "cell_type": "code",
   "execution_count": 20,
   "id": "fad614be-a700-46d8-8ec3-98fea518cf31",
   "metadata": {},
   "outputs": [
    {
     "name": "stdin",
     "output_type": "stream",
     "text": [
      "Enter a number:  20\n"
     ]
    },
    {
     "name": "stdout",
     "output_type": "stream",
     "text": [
      "The number is positive.\n"
     ]
    }
   ],
   "source": [
    "number = float(input(\"Enter a number: \"))\n",
    "\n",
    "if number > 0:\n",
    "    print(\"The number is positive.\")\n",
    "elif number < 0:\n",
    "    print(\"The number is negative.\")\n",
    "else:\n",
    "    print(\"The number is zero.\")"
   ]
  },
  {
   "cell_type": "markdown",
   "id": "92b3d107-ded8-493f-803b-426054f05ce3",
   "metadata": {},
   "source": [
    "2. Create a Python program that checks if a given number is even or odd using an if-else statement."
   ]
  },
  {
   "cell_type": "code",
   "execution_count": 21,
   "id": "56a6acc0-46e4-487a-8a35-63af3dc61bea",
   "metadata": {},
   "outputs": [
    {
     "name": "stdin",
     "output_type": "stream",
     "text": [
      "Enter a number:  55\n"
     ]
    },
    {
     "name": "stdout",
     "output_type": "stream",
     "text": [
      "55 is odd.\n"
     ]
    }
   ],
   "source": [
    "number = int(input(\"Enter a number: \"))\n",
    "\n",
    "if number % 2 == 0:\n",
    "    print(f\"{number} is even.\")\n",
    "else:\n",
    "    print(f\"{number} is odd.\")"
   ]
  },
  {
   "cell_type": "markdown",
   "id": "83c27094-031e-425a-9140-90a59220c675",
   "metadata": {},
   "source": [
    "3. How can you use nested if-else statements in Python, and provide an example\n",
    "\n",
    "Ans ---> In Python,  nested if-else statements to create more complex conditional logic by placing one if-else statement inside another. This allows you to evaluate multiple conditions and execute different code blocks based on the results of those conditions. Each inner if-else statement is indented to indicate its level of nesting"
   ]
  },
  {
   "cell_type": "code",
   "execution_count": 23,
   "id": "e7e28ab9-7d0a-47fd-b752-7ef0b9f03b93",
   "metadata": {},
   "outputs": [
    {
     "name": "stdin",
     "output_type": "stream",
     "text": [
      "Enter number -25\n"
     ]
    },
    {
     "name": "stdout",
     "output_type": "stream",
     "text": [
      "The number is not positive.\n"
     ]
    }
   ],
   "source": [
    "num = int(input(\"Enter number\"))\n",
    "\n",
    "if num > 0:\n",
    "    if num % 2 == 0:\n",
    "        print(\"The number is positive and even.\")\n",
    "    else:\n",
    "        print(\"The number is positive but odd.\")\n",
    "else:\n",
    "    print(\"The number is not positive.\")"
   ]
  },
  {
   "cell_type": "markdown",
   "id": "1408c549-3297-4407-86ab-b239925b11f5",
   "metadata": {},
   "source": [
    "4. Write a Python program to determine the largest of three numbers using if-else."
   ]
  },
  {
   "cell_type": "code",
   "execution_count": 25,
   "id": "c3107b89-8229-4165-acbd-d00693d94ac7",
   "metadata": {},
   "outputs": [
    {
     "name": "stdin",
     "output_type": "stream",
     "text": [
      "Enter Number1 10\n",
      "Enter Number2 20\n",
      "Enter Number3 30\n"
     ]
    },
    {
     "name": "stdout",
     "output_type": "stream",
     "text": [
      "The largest number among 10, 20, and 30 is 30\n"
     ]
    }
   ],
   "source": [
    "num1 = int(input(\"Enter Number1\"))\n",
    "num2 = int(input(\"Enter Number2\"))\n",
    "num3 = int(input(\"Enter Number3\"))\n",
    "\n",
    "if num1 >= num2 and num1 >= num3:\n",
    "    largest = num1\n",
    "elif num2 >= num1 and num2 >= num3:\n",
    "    largest = num2\n",
    "else:\n",
    "    largest = num3\n",
    "\n",
    "print(f\"The largest number among {num1}, {num2}, and {num3} is {largest}\")"
   ]
  },
  {
   "cell_type": "markdown",
   "id": "e48798ef-0b77-4251-9d32-f150ccf18d38",
   "metadata": {},
   "source": [
    "5. Write a Python program that calculates the absolute value of a number using if-else."
   ]
  },
  {
   "cell_type": "code",
   "execution_count": 27,
   "id": "97bb6926-19f8-4529-868a-90c90fa8f012",
   "metadata": {},
   "outputs": [
    {
     "name": "stdin",
     "output_type": "stream",
     "text": [
      "Enter a number:  -20\n"
     ]
    },
    {
     "name": "stdout",
     "output_type": "stream",
     "text": [
      "The absolute value of -20.0 is 20.0\n"
     ]
    }
   ],
   "source": [
    "number = float(input(\"Enter a number: \"))\n",
    "\n",
    "if number < 0:\n",
    "    absolute_value = -number\n",
    "else:\n",
    "    absolute_value = number\n",
    "\n",
    "print(f\"The absolute value of {number} is {absolute_value}\")"
   ]
  },
  {
   "cell_type": "markdown",
   "id": "5d82844f-0c9d-4deb-924d-7bdee5444a84",
   "metadata": {},
   "source": [
    "6. Create a Python program that checks if a given character is a vowel or consonant using if-else."
   ]
  },
  {
   "cell_type": "code",
   "execution_count": 3,
   "id": "24a05a91-7329-4644-86c9-8326d1719383",
   "metadata": {},
   "outputs": [
    {
     "name": "stdin",
     "output_type": "stream",
     "text": [
      "Enter a character:  Shweta\n"
     ]
    },
    {
     "name": "stdout",
     "output_type": "stream",
     "text": [
      "shweta is a consonant.\n"
     ]
    }
   ],
   "source": [
    "char = input(\"Enter a character: \")\n",
    "\n",
    "char = char.lower()\n",
    "\n",
    "if char == 'a' or char == 'e' or char == 'i' or char == 'o' or char == 'u':\n",
    "    print(f\"{char} is a vowel.\")\n",
    "else:\n",
    "    print(f\"{char} is a consonant.\")"
   ]
  },
  {
   "cell_type": "markdown",
   "id": "d6cce673-6b5c-44a4-adcc-09ee17a131ea",
   "metadata": {},
   "source": [
    "7. Write a Python program to determine if a user is eligible to vote based on their age using if-else."
   ]
  },
  {
   "cell_type": "code",
   "execution_count": 4,
   "id": "32e6d18d-abf1-44dd-940e-cf9bc404288c",
   "metadata": {},
   "outputs": [
    {
     "name": "stdin",
     "output_type": "stream",
     "text": [
      "Enter your age:  25\n"
     ]
    },
    {
     "name": "stdout",
     "output_type": "stream",
     "text": [
      "You are eligible to vote.\n"
     ]
    }
   ],
   "source": [
    "age = int(input(\"Enter your age: \"))\n",
    "\n",
    "if age >= 18:\n",
    "    print(\"You are eligible to vote.\")\n",
    "else:\n",
    "    print(\"You are not eligible to vote.\")"
   ]
  },
  {
   "cell_type": "markdown",
   "id": "7435dd74-0811-435d-9a25-213a110b0796",
   "metadata": {},
   "source": [
    "8. Create a Python program that calculates the discount amount based on the purchase amount using if-else"
   ]
  },
  {
   "cell_type": "code",
   "execution_count": 6,
   "id": "33206fa6-44eb-4fee-a43f-bab2beaa2e61",
   "metadata": {},
   "outputs": [
    {
     "name": "stdin",
     "output_type": "stream",
     "text": [
      "Enter Sale Amount:  50000\n"
     ]
    },
    {
     "name": "stdout",
     "output_type": "stream",
     "text": [
      "Discount :  15000.0\n",
      "Net Pay  :  35000.0\n"
     ]
    }
   ],
   "source": [
    "# input sale amount\n",
    "amt = int(input(\"Enter Sale Amount: \"))\n",
    "\n",
    "if(amt>0):\n",
    "    if amt<=5000:\n",
    "       disc = amt*0.05\n",
    "    elif amt<=15000:\n",
    "        disc=amt*0.12\n",
    "    elif amt<=25000:\n",
    "        disc=0.2 * amt\n",
    "    else:\n",
    "         disc=0.3 * amt\n",
    "\n",
    "    print(\"Discount : \",disc)\n",
    "    print(\"Net Pay  : \",amt-disc)\n",
    "else:\n",
    "    print(\"Invalid Amount\")"
   ]
  },
  {
   "cell_type": "markdown",
   "id": "b43b9198-2009-468a-956c-25b2ace0b17c",
   "metadata": {},
   "source": [
    "9. Write a Python program to check if a number is within a specified range using if-else."
   ]
  },
  {
   "cell_type": "code",
   "execution_count": 7,
   "id": "ef4cf6e3-3f98-47df-8d1a-3765cc398c46",
   "metadata": {},
   "outputs": [
    {
     "name": "stdin",
     "output_type": "stream",
     "text": [
      "Enter a number:  60\n"
     ]
    },
    {
     "name": "stdout",
     "output_type": "stream",
     "text": [
      "60 is outside the specified range [10, 50].\n"
     ]
    }
   ],
   "source": [
    "lower_limit = 10\n",
    "upper_limit = 50\n",
    "\n",
    "number = int(input(\"Enter a number: \"))\n",
    "\n",
    "if number >= lower_limit and number <= upper_limit:\n",
    "    print(f\"{number} is within the specified range [{lower_limit}, {upper_limit}].\")\n",
    "else:\n",
    "    print(f\"{number} is outside the specified range [{lower_limit}, {upper_limit}].\")"
   ]
  },
  {
   "cell_type": "markdown",
   "id": "9438727f-9049-49b4-8870-86778412b14a",
   "metadata": {},
   "source": [
    "10. Create a Python program that determines the grade of a student based on their score using if-else."
   ]
  },
  {
   "cell_type": "code",
   "execution_count": 8,
   "id": "ae0ad1c1-1083-4b27-ab24-908724ae6968",
   "metadata": {},
   "outputs": [
    {
     "name": "stdin",
     "output_type": "stream",
     "text": [
      "Enter the student's score:  100\n"
     ]
    },
    {
     "name": "stdout",
     "output_type": "stream",
     "text": [
      "The student's grade is: A\n"
     ]
    }
   ],
   "source": [
    "score = float(input(\"Enter the student's score: \"))\n",
    "\n",
    "if score >= 90:\n",
    "    grade = 'A'\n",
    "elif score >= 80:\n",
    "    grade = 'B'\n",
    "elif score >= 70:\n",
    "    grade = 'C'\n",
    "elif score >= 60:\n",
    "    grade = 'D'\n",
    "else:\n",
    "    grade = 'F'\n",
    "\n",
    "print(f\"The student's grade is: {grade}\")"
   ]
  },
  {
   "cell_type": "markdown",
   "id": "f192cddc-f31c-41fc-9401-955b4d52c9c8",
   "metadata": {},
   "source": [
    "11. Write a Python program to check if a string is empty or not using if-else."
   ]
  },
  {
   "cell_type": "code",
   "execution_count": 1,
   "id": "a32708d6-baf4-4236-a4f7-a20749b58096",
   "metadata": {},
   "outputs": [
    {
     "name": "stdin",
     "output_type": "stream",
     "text": [
      "Enter String shweta\n"
     ]
    },
    {
     "name": "stdout",
     "output_type": "stream",
     "text": [
      "The string is not empty.\n"
     ]
    }
   ],
   "source": [
    "user_input = input(\"Enter String\")\n",
    "\n",
    "if user_input == \"\":\n",
    "    print(\"The string is empty.\")\n",
    "else:\n",
    "    print(\"The string is not empty.\")"
   ]
  },
  {
   "cell_type": "markdown",
   "id": "18799ca9-6fc0-44b9-86b4-f3322034a777",
   "metadata": {},
   "source": [
    "12. Create a Python program that identifies the type of a triangle (e.g., equilateral, isosceles, or scalene) based on input values using if-else."
   ]
  },
  {
   "cell_type": "code",
   "execution_count": 3,
   "id": "6f1c4ebb-bcda-491d-9817-27a6b40bff2f",
   "metadata": {},
   "outputs": [
    {
     "name": "stdin",
     "output_type": "stream",
     "text": [
      "Enter the length of the first side:  10.5\n",
      "Enter the length of the second side:  20.5\n",
      "Enter the length of the third side:  10.5\n"
     ]
    },
    {
     "name": "stdout",
     "output_type": "stream",
     "text": [
      "This is an isosceles triangle.\n"
     ]
    }
   ],
   "source": [
    "side1 = float(input(\"Enter the length of the first side: \"))\n",
    "side2 = float(input(\"Enter the length of the second side: \"))\n",
    "side3 = float(input(\"Enter the length of the third side: \"))\n",
    "\n",
    "if side1 + side2 > side3 and side1 + side3 > side2 and side2 + side3 > side1:\n",
    "    if side1 == side2 == side3:\n",
    "        print(\"This is an equilateral triangle.\")\n",
    "    elif side1 == side2 or side1 == side3 or side2 == side3:\n",
    "        print(\"This is an isosceles triangle.\")\n",
    "    else:\n",
    "        print(\"This is a scalene triangle.\")\n",
    "else:\n",
    "    print(\"These side lengths do not form a valid triangle.\")"
   ]
  },
  {
   "cell_type": "markdown",
   "id": "180b3065-b8e7-4785-92ba-4e3e29e4d26d",
   "metadata": {},
   "source": [
    "13. Write a Python program to determine the day of the week based on a user-provided number using if-else."
   ]
  },
  {
   "cell_type": "code",
   "execution_count": 4,
   "id": "7a8390ef-a8a2-414c-a278-d2811e8e30e7",
   "metadata": {},
   "outputs": [
    {
     "name": "stdin",
     "output_type": "stream",
     "text": [
      "Enter a number between 1 and 7:  7\n"
     ]
    },
    {
     "name": "stdout",
     "output_type": "stream",
     "text": [
      "The day corresponding to 7 is Saturday.\n"
     ]
    }
   ],
   "source": [
    "day_number = int(input(\"Enter a number between 1 and 7: \"))\n",
    "\n",
    "if day_number == 1:\n",
    "    day = \"Sunday\"\n",
    "elif day_number == 2:\n",
    "    day = \"Monday\"\n",
    "elif day_number == 3:\n",
    "    day = \"Tuesday\"\n",
    "elif day_number == 4:\n",
    "    day = \"Wednesday\"\n",
    "elif day_number == 5:\n",
    "    day = \"Thursday\"\n",
    "elif day_number == 6:\n",
    "    day = \"Friday\"\n",
    "elif day_number == 7:\n",
    "    day = \"Saturday\"\n",
    "else:\n",
    "    day = \"Invalid input\"\n",
    "\n",
    "print(f\"The day corresponding to {day_number} is {day}.\")"
   ]
  },
  {
   "cell_type": "markdown",
   "id": "c97ce830-561d-4870-acc7-9cb230900c53",
   "metadata": {},
   "source": [
    "14.Create a Python program that checks if a given year is a leap year using both if-else and a function."
   ]
  },
  {
   "cell_type": "code",
   "execution_count": 7,
   "id": "d788e1bb-f712-47cd-a953-02175324a7d2",
   "metadata": {},
   "outputs": [
    {
     "name": "stdin",
     "output_type": "stream",
     "text": [
      "Enter a year:  2020\n"
     ]
    },
    {
     "name": "stdout",
     "output_type": "stream",
     "text": [
      "2020 is a leap year.\n"
     ]
    }
   ],
   "source": [
    "def is_leap_year(year):\n",
    "    if (year % 4 == 0 and year % 100 != 0) or (year % 400 == 0):\n",
    "        return True\n",
    "    else:\n",
    "        return False\n",
    "    \n",
    "year = int(input(\"Enter a year: \"))\n",
    "\n",
    "if is_leap_year(year):\n",
    "    print(f\"{year} is a leap year.\")\n",
    "else:\n",
    "    print(f\"{year} is not a leap year.\")"
   ]
  },
  {
   "cell_type": "markdown",
   "id": "6b208c98-5043-4478-8343-bc4929ea9b67",
   "metadata": {},
   "source": [
    "15. How do you use the \"assert\" statement in Python to add debugging checks within if-else blocks?"
   ]
  },
  {
   "cell_type": "markdown",
   "id": "a9d64cdd-d5b8-4fc8-ba83-f1cf10608aff",
   "metadata": {},
   "source": [
    "And ---> It takes as input a boolean condition, which when returns true doesn't do anything and continues the normal flow of execution, but if it is computed to be false, then it raises an AssertionError along with the optional message provided.\n",
    "\n",
    "assert statement is used for debugging and testing purposes to check whether a given condition is True. If the condition is False, an AssertionError exception is raised, which can be helpful for identifying issues during development. You can use assert within if-else blocks or anywhere else in your code to add debugging checks\n",
    "\n",
    "assert condition, message\n",
    "\n",
    "condition: If it evaluates to False, an AssertionError is raised.\n",
    "\n",
    "message (optional): An optional message that provides additional information about the assertion. This message will be included in the AssertionError exception if it is raised."
   ]
  },
  {
   "cell_type": "code",
   "execution_count": 18,
   "id": "5db4dfa7-de7a-47a0-9c1c-9375ca01efd0",
   "metadata": {},
   "outputs": [
    {
     "name": "stdout",
     "output_type": "stream",
     "text": [
      "AssertionError: Division by zero is not allowed\n"
     ]
    }
   ],
   "source": [
    "def divide(a, b):\n",
    "    assert b != 0, \"Division by zero is not allowed\"\n",
    "    result = a / b\n",
    "    return result\n",
    "\n",
    "numerator = 10\n",
    "denominator = 0\n",
    "\n",
    "try:\n",
    "    result = divide(numerator, denominator)\n",
    "    print(f\"Result: {result}\")\n",
    "except AssertionError as e:\n",
    "    print(f\"AssertionError: {e}\")\n",
    "except ZeroDivisionError as e:\n",
    "    print(f\"ZeroDivisionError: {e}\")"
   ]
  },
  {
   "cell_type": "markdown",
   "id": "8eb58b84-9495-4191-ac95-6957e9fab482",
   "metadata": {},
   "source": [
    "16. Create a Python program that determines the eligibility of a person for a senior citizen discount based on age using if-else."
   ]
  },
  {
   "cell_type": "code",
   "execution_count": 22,
   "id": "f2437a68-7f81-429e-9481-f4179dbb5ab9",
   "metadata": {},
   "outputs": [
    {
     "name": "stdin",
     "output_type": "stream",
     "text": [
      "Enter your age:  75\n"
     ]
    },
    {
     "name": "stdout",
     "output_type": "stream",
     "text": [
      "Congratulations! You are eligible for a senior citizen discount.\n"
     ]
    }
   ],
   "source": [
    "age = int(input(\"Enter your age: \"))\n",
    "\n",
    "senior_citizen_age = 60\n",
    "\n",
    "if age >= senior_citizen_age:\n",
    "    print(\"Congratulations! You are eligible for a senior citizen discount.\")\n",
    "else:\n",
    "    print(\"Sorry, you are not eligible for a senior citizen discount.\")"
   ]
  },
  {
   "cell_type": "markdown",
   "id": "07186aa0-c9ed-4752-a80b-a639cc2f77bc",
   "metadata": {},
   "source": [
    "17. Write a Python program to categorize a given character as uppercase, lowercase, or neither using if-else"
   ]
  },
  {
   "cell_type": "code",
   "execution_count": 26,
   "id": "2dc7d04f-272b-428b-851c-42ce1dfba328",
   "metadata": {},
   "outputs": [
    {
     "name": "stdin",
     "output_type": "stream",
     "text": [
      "Enter a single character:  a\n"
     ]
    },
    {
     "name": "stdout",
     "output_type": "stream",
     "text": [
      "char is an lowercase letter\n"
     ]
    }
   ],
   "source": [
    "char = input(\"Enter a single character: \")\n",
    "\n",
    "if len(char) ==1:\n",
    "    if char.isupper():\n",
    "        print(\"char is an uppercase letter\")\n",
    "    elif char.islower():\n",
    "        print(\"char is an lowercase letter\")\n",
    "    else:\n",
    "        print(\"char is an not letter\")           \n",
    "else:\n",
    "    print(\"Please enter a single character.\")"
   ]
  },
  {
   "cell_type": "markdown",
   "id": "591ee168-c64e-4f0f-b08e-57fea88b94a1",
   "metadata": {},
   "source": [
    "18. Write a Python program to determine the roots of a quadratic equation using if-else."
   ]
  },
  {
   "cell_type": "code",
   "execution_count": 1,
   "id": "b0312011-f233-4dc8-8759-76d54ff1d06c",
   "metadata": {},
   "outputs": [
    {
     "name": "stdin",
     "output_type": "stream",
     "text": [
      "Enter the value 'a':  10\n",
      "Enter the value 'b':  20\n",
      "Enter the value 'c':  30\n"
     ]
    },
    {
     "name": "stdout",
     "output_type": "stream",
     "text": [
      "The roots are complex: x1 = -1.0 + 1.4142135623730951i, x2 = -1.0 - 1.4142135623730951i\n"
     ]
    }
   ],
   "source": [
    "import math\n",
    "\n",
    "a = int(input(\"Enter the value 'a': \"))\n",
    "b = int(input(\"Enter the value 'b': \"))\n",
    "c = int(input(\"Enter the value 'c': \"))\n",
    "\n",
    "discriminant = b**2 - 4*a*c\n",
    "\n",
    "if discriminant > 0:\n",
    "    x1 = (-b + math.sqrt(discriminant)) / (2*a)\n",
    "    x2 = (-b - math.sqrt(discriminant)) / (2*a)\n",
    "    print(f\"The roots are real and distinct: x1 = {x1}, x2 = {x2}\")\n",
    "elif discriminant == 0:\n",
    "    x1 = -b / (2*a)\n",
    "    print(f\"There is one real root (double root): x1 = {x1}\")\n",
    "else:\n",
    "    real_part = -b / (2*a)\n",
    "    imaginary_part = math.sqrt(abs(discriminant)) / (2*a)\n",
    "    print(f\"The roots are complex: x1 = {real_part} + {imaginary_part}i, x2 = {real_part} - {imaginary_part}i\")"
   ]
  },
  {
   "cell_type": "markdown",
   "id": "97526a9a-db27-46ee-a2c1-1454f6a3eb02",
   "metadata": {},
   "source": [
    "19. Create a Python program that checks if a given year is a century year or not using if-else."
   ]
  },
  {
   "cell_type": "code",
   "execution_count": 1,
   "id": "425ce3e9-d959-4b2f-8b68-a49d52ff0d99",
   "metadata": {},
   "outputs": [
    {
     "name": "stdin",
     "output_type": "stream",
     "text": [
      "Enter a year:  2000\n"
     ]
    },
    {
     "name": "stdout",
     "output_type": "stream",
     "text": [
      "2000 is a century year.\n"
     ]
    }
   ],
   "source": [
    "year = int(input(\"Enter a year: \"))\n",
    "if year % 100 == 0:\n",
    "    print(f\"{year} is a century year.\")\n",
    "else:\n",
    "    print(f\"{year} is not a century year.\")"
   ]
  },
  {
   "cell_type": "markdown",
   "id": "24d5e554-6826-4df2-9d09-f713cf69eb3f",
   "metadata": {},
   "source": [
    "20. Write a Python program to determine if a given number is a perfect square using if-else."
   ]
  },
  {
   "cell_type": "code",
   "execution_count": 10,
   "id": "04f504d1-fadd-4385-84cc-306917241974",
   "metadata": {},
   "outputs": [
    {
     "name": "stdout",
     "output_type": "stream",
     "text": [
      "True\n"
     ]
    }
   ],
   "source": [
    "def is_perfect_square(n):  \n",
    "    i = 1  \n",
    "    while i * i <= n:  \n",
    "        if i * i == n:  \n",
    "            return True  \n",
    "        i += 1  \n",
    "    return False  \n",
    "print(is_perfect_square(36)) "
   ]
  },
  {
   "cell_type": "markdown",
   "id": "fefea41d-632f-4806-a239-5f531c766517",
   "metadata": {},
   "source": [
    "21. Explain the purpose of the \"continue\" and \"break\" statements within if-else loops.\n",
    "\n"
   ]
  },
  {
   "cell_type": "markdown",
   "id": "d4fc8663-f5ad-433f-9c10-f37d87f5b15b",
   "metadata": {},
   "source": [
    "\"continue\" Statement:\n",
    "\n",
    "1. It is used to skip the current iteration of a loop and move to the next iteration.\n",
    "2. When a \"continue\" statement is encountered, the program immediately jumps to the next iteration of the loop.\n",
    "3. useuful to skip specific iterations based on certain conditions without terminating the entire loop."
   ]
  },
  {
   "cell_type": "code",
   "execution_count": 11,
   "id": "60c9292a-5508-4988-9f45-498dd5ddfc0c",
   "metadata": {},
   "outputs": [
    {
     "name": "stdout",
     "output_type": "stream",
     "text": [
      "1\n",
      "2\n",
      "4\n",
      "5\n"
     ]
    }
   ],
   "source": [
    "# continue Example\n",
    "for i in range(1, 6):\n",
    "    if i == 3: # here it will skip 3 and continue\n",
    "        continue\n",
    "    print(i)"
   ]
  },
  {
   "cell_type": "markdown",
   "id": "9b85ae26-3164-432a-87d0-fd72cd4aa282",
   "metadata": {},
   "source": [
    "\"break\" Statement:\n",
    "\n",
    "1. The \"break\" statement is used to exit a loop prematurely, regardless of whether the loop's condition is still true.\n",
    "2. When a \"break\" statement is encountered, the loop immediately terminated\n",
    "3. \"break\" is typically used when a certain condition is met, and stop the loop's execution early"
   ]
  },
  {
   "cell_type": "code",
   "execution_count": 1,
   "id": "34494315-d332-4c66-bf49-964937d346cf",
   "metadata": {},
   "outputs": [
    {
     "name": "stdout",
     "output_type": "stream",
     "text": [
      "1\n",
      "2\n"
     ]
    }
   ],
   "source": [
    "#Break Example\n",
    "for i in range(1, 6):\n",
    "    if i == 3: # here it break the loop when reach to 3\n",
    "        break\n",
    "    print(i)"
   ]
  },
  {
   "cell_type": "markdown",
   "id": "e4fd3029-1430-4116-b16e-81d7076cebff",
   "metadata": {},
   "source": [
    "22. Create a Python program that calculates the BMI (Body Mass Index) of a person based on their weight and height using if-else."
   ]
  },
  {
   "cell_type": "code",
   "execution_count": 3,
   "id": "4865a751-bc02-4a7d-a524-71c57275cf4b",
   "metadata": {},
   "outputs": [
    {
     "name": "stdin",
     "output_type": "stream",
     "text": [
      "Enter your weight in kilograms:  60\n",
      "Enter your height in meters:  5.2\n"
     ]
    },
    {
     "name": "stdout",
     "output_type": "stream",
     "text": [
      "Your BMI is 2.22, which is considered Underweight.\n"
     ]
    }
   ],
   "source": [
    "def calculate_bmi(weight, height):\n",
    "    if weight <= 0 or height <= 0:\n",
    "        return \"Invalid input. Weight and height must be greater than zero.\"\n",
    "\n",
    "    bmi = weight / (height ** 2)\n",
    "\n",
    "    if bmi < 18.5:\n",
    "        category = \"Underweight\"\n",
    "    elif 18.5 <= bmi < 24.9:\n",
    "        category = \"Normal Weight\"\n",
    "    elif 25 <= bmi < 29.9:\n",
    "        category = \"Overweight\"\n",
    "    else:\n",
    "        category = \"Obese\"\n",
    "    \n",
    "    return f\"Your BMI is {bmi:.2f}, which is considered {category}.\"\n",
    "\n",
    "weight = float(input(\"Enter your weight in kilograms: \"))\n",
    "height = float(input(\"Enter your height in meters: \"))\n",
    "\n",
    "result = calculate_bmi(weight, height)\n",
    "print(result)"
   ]
  },
  {
   "cell_type": "markdown",
   "id": "f5ad3378-0511-4ac3-94b9-a3c810303d06",
   "metadata": {},
   "source": [
    "23. How can you use the \"filter()\" function with if-else statements to filter elements from a list?"
   ]
  },
  {
   "cell_type": "code",
   "execution_count": 8,
   "id": "dab265c0-d414-4157-a2b4-5a627c45007b",
   "metadata": {},
   "outputs": [
    {
     "name": "stdout",
     "output_type": "stream",
     "text": [
      "[140, 180, 165, 162]\n"
     ]
    }
   ],
   "source": [
    "heights = [140, 180, 165, 162, 345]\n",
    "\n",
    "def filter_height(height):\n",
    "    if height < 300:\n",
    "        return True\n",
    "    else:\n",
    "        return False  \n",
    "\n",
    "filter_height = filter(filter_height, heights)\n",
    "\n",
    "print(list(filter_height))"
   ]
  },
  {
   "cell_type": "markdown",
   "id": "3c6fd960-5100-481f-b9a8-fe8698c1bf4e",
   "metadata": {},
   "source": [
    "24. Write a Python program to determine if a given number is prime or not using if-else."
   ]
  },
  {
   "cell_type": "code",
   "execution_count": 14,
   "id": "bdc26309-41ae-4e92-83d1-f557e2a483ac",
   "metadata": {},
   "outputs": [
    {
     "name": "stdin",
     "output_type": "stream",
     "text": [
      "Enter a number:  5\n"
     ]
    },
    {
     "name": "stdout",
     "output_type": "stream",
     "text": [
      "5 is a prime number.\n"
     ]
    }
   ],
   "source": [
    "def is_prime(number):\n",
    "    if number <= 1:\n",
    "        return False\n",
    "    for i in range(2, int(number**0.5) + 1):\n",
    "        if number % i == 0:\n",
    "            return False \n",
    "\n",
    "    return True  \n",
    "\n",
    "num = int(input(\"Enter a number: \"))\n",
    "\n",
    "if is_prime(num):\n",
    "    print(f\"{num} is a prime number.\")\n",
    "else:\n",
    "    print(f\"{num} is not a prime number.\")"
   ]
  },
  {
   "cell_type": "markdown",
   "id": "5e8b0fdd-56f4-46b2-92dc-24c1d64b1d32",
   "metadata": {},
   "source": [
    "Map :-"
   ]
  },
  {
   "cell_type": "markdown",
   "id": "909406ed-5901-487e-85d2-c1b5ceef01e4",
   "metadata": {},
   "source": [
    "1. Explain the purpose of the `map()` function in Python and provide an example of how it can be used to apply a function to each element of an iterable."
   ]
  },
  {
   "cell_type": "markdown",
   "id": "c59aff39-90da-4c91-b5ac-36bf54cae597",
   "metadata": {},
   "source": [
    "Map is a function that works as an iterator to return a result after applying a function to every item of an iterable (tuple, lists, etc.)\n",
    "\n",
    "map(function, iterable)\n",
    "\n",
    "function: The function apply to each element of the iterable.\n",
    "\n",
    "iterable: The iterable (e.g., list, tuple) elements want to process."
   ]
  },
  {
   "cell_type": "code",
   "execution_count": 22,
   "id": "db5085a9-36c0-45d1-bc06-c2534223b9a7",
   "metadata": {},
   "outputs": [
    {
     "name": "stdout",
     "output_type": "stream",
     "text": [
      "[1, 4, 9, 16, 25]\n"
     ]
    }
   ],
   "source": [
    "numbers = [1, 2, 3, 4, 5]\n",
    "\n",
    "def square(x):\n",
    "    return x ** 2\n",
    "\n",
    "squared_numbers = map(square, numbers)\n",
    "\n",
    "squared_numbers_list = list(squared_numbers)\n",
    "\n",
    "print(squared_numbers_list)"
   ]
  },
  {
   "cell_type": "markdown",
   "id": "0cbe1072-37ff-4451-b8ee-2ae04327dabf",
   "metadata": {},
   "source": [
    "2. Write a Python program that uses the `map()` function to square each element of a list of numbers."
   ]
  },
  {
   "cell_type": "code",
   "execution_count": 23,
   "id": "e1ed56ef-a98f-4f55-b7a0-1eac12df7095",
   "metadata": {},
   "outputs": [
    {
     "name": "stdout",
     "output_type": "stream",
     "text": [
      "[1, 4, 9, 16, 25]\n"
     ]
    }
   ],
   "source": [
    "def square(x):\n",
    "    return x ** 2\n",
    "\n",
    "numbers = [1, 2, 3, 4, 5]\n",
    "\n",
    "squared_numbers = map(square, numbers)\n",
    "\n",
    "squared_numbers_list = list(squared_numbers)\n",
    "\n",
    "print(squared_numbers_list)"
   ]
  },
  {
   "cell_type": "markdown",
   "id": "31f424d5-cdd8-4a39-ba1a-22808d7216e8",
   "metadata": {},
   "source": [
    "3. How does the `map()` function differ from a list comprehension in Python, and when would you choose one over the other?"
   ]
  },
  {
   "cell_type": "markdown",
   "id": "2def16e0-f2dd-4dc6-a0be-3ae69dc7d906",
   "metadata": {},
   "source": [
    "map() is a built-in function that takes two arguments: a function and an iterable. It applies the function to each element of the iterable and returns an iterator.\n",
    "\n",
    "List comprehensions use a more concise and expressive syntax, allowing to create a new list by specifying the transformation want to apply to each element of an existing iterable.\n",
    "\n",
    "Use map() is pre-existing function that want to apply to every element of an iterable. \n",
    "It can be useful when the transformation logic is complex and is encapsulated in a separate function.\n",
    "\n",
    "Use list comprehensions when the transformation logic is simple and can be expressed concisely in a single line. \n",
    "List comprehensions are often the preferred choice for creating new lists from existing ones."
   ]
  },
  {
   "cell_type": "code",
   "execution_count": 1,
   "id": "eefb475a-0641-4603-912e-8e67aff8a4a1",
   "metadata": {},
   "outputs": [],
   "source": [
    "# Using map() to double each element in a list\n",
    "numbers = [1, 2, 3, 4, 5]\n",
    "doubled_numbers = list(map(lambda x: x * 2, numbers))"
   ]
  },
  {
   "cell_type": "code",
   "execution_count": null,
   "id": "b1b6b5eb-7efb-40d1-9eea-a32799a16210",
   "metadata": {},
   "outputs": [],
   "source": [
    "# Using a list comprehension to double each element in a list\n",
    "numbers = [1, 2, 3, 4, 5]\n",
    "doubled_numbers = [x * 2 for x in numbers]"
   ]
  },
  {
   "cell_type": "markdown",
   "id": "e62e5c0b-45e8-4f70-aaa4-87553c568ed4",
   "metadata": {},
   "source": [
    "4. Create a Python program that uses the `map()` function to convert a list of names to uppercase."
   ]
  },
  {
   "cell_type": "code",
   "execution_count": 4,
   "id": "fc883d12-6450-4bb3-a356-3a4ebb8f7c56",
   "metadata": {},
   "outputs": [
    {
     "name": "stdout",
     "output_type": "stream",
     "text": [
      "SHWETA\n",
      "RAHUL\n",
      "RAJAT\n",
      "ROHIT\n"
     ]
    }
   ],
   "source": [
    "name = [\"Shweta\", \"Rahul\", \"Rajat\", \"Rohit\"]\n",
    "\n",
    "def upper_case(name):\n",
    "    return name.upper()\n",
    "\n",
    "convert_uppercase = list(map(upper_case, name))\n",
    "\n",
    "for name in convert_uppercase :\n",
    "    print(name)"
   ]
  },
  {
   "cell_type": "markdown",
   "id": "3b0cf34d-51a3-49f2-b8b4-1bea7b94615d",
   "metadata": {},
   "source": [
    "5. Write a Python program that uses the `map()` function to calculate the length of each word in a list of strings"
   ]
  },
  {
   "cell_type": "code",
   "execution_count": 5,
   "id": "fbfb30f9-d53d-413f-9a6d-2b461f63c41a",
   "metadata": {},
   "outputs": [
    {
     "name": "stdout",
     "output_type": "stream",
     "text": [
      "[5]\n",
      "[6]\n",
      "[6]\n",
      "[4]\n"
     ]
    }
   ],
   "source": [
    "def calculate_word_length(word):\n",
    "    return len(word)\n",
    "\n",
    "strings = [\"apple\", \"banana\", \"cherry\", \"date\"]\n",
    "\n",
    "words_lists = map(str.split, strings)\n",
    "\n",
    "word_lengths = list(map(lambda words: list(map(calculate_word_length, words)), words_lists))\n",
    "\n",
    "for lengths in word_lengths:\n",
    "    print(lengths)"
   ]
  },
  {
   "cell_type": "markdown",
   "id": "809ba662-3c66-4773-b5e5-4a1114f395e1",
   "metadata": {},
   "source": [
    "6. How can you use the `map()` function to apply a custom function to elements of multiple lists simultaneously in Python?"
   ]
  },
  {
   "cell_type": "code",
   "execution_count": 6,
   "id": "58f3bf73-1b8d-4cdc-93a4-01e38502fb1a",
   "metadata": {},
   "outputs": [
    {
     "name": "stdout",
     "output_type": "stream",
     "text": [
      "[12, 15, 18]\n"
     ]
    }
   ],
   "source": [
    "def custom_function(x,y,z):\n",
    "    return x+y+z\n",
    "\n",
    "list1 = [1,2,3]\n",
    "list2 = [4,5,6]\n",
    "list3 = [7,8,9]\n",
    "\n",
    "result = list(map(custom_function, list1,list2,list3))\n",
    "\n",
    "print(result)"
   ]
  },
  {
   "cell_type": "markdown",
   "id": "a1318d40-8f98-4927-9f6d-c42a6bf88fac",
   "metadata": {},
   "source": [
    "7. Create a Python program that uses `map()` to convert a list of temperatures from Celsius to Fahrenheit."
   ]
  },
  {
   "cell_type": "code",
   "execution_count": 7,
   "id": "db7ceb05-25ab-44c8-a01d-1b6edca8bbf8",
   "metadata": {},
   "outputs": [
    {
     "name": "stdout",
     "output_type": "stream",
     "text": [
      "32.0\n",
      "77.0\n",
      "212.0\n",
      "14.0\n",
      "90.5\n"
     ]
    }
   ],
   "source": [
    "def celsius_to_fahrenheit(celsius):\n",
    "    return (celsius * 9/5) + 32\n",
    "\n",
    "temperatures_celsius = [0, 25, 100, -10, 32.5]\n",
    "\n",
    "temperatures_fahrenheit = list(map(celsius_to_fahrenheit, temperatures_celsius))\n",
    "\n",
    "for fahrenheit in temperatures_fahrenheit:\n",
    "    print(fahrenheit)"
   ]
  },
  {
   "cell_type": "markdown",
   "id": "43bb4456-979b-4341-aca5-68a17005bcfc",
   "metadata": {},
   "source": [
    "8. Write a Python program that uses the `map()` function to round each element of a list of floating-point numbers to the nearest integer."
   ]
  },
  {
   "cell_type": "code",
   "execution_count": 8,
   "id": "0ffa893e-b407-4932-beb8-b3763457267f",
   "metadata": {},
   "outputs": [
    {
     "name": "stdout",
     "output_type": "stream",
     "text": [
      "3\n",
      "3\n",
      "2\n",
      "0\n",
      "10\n"
     ]
    }
   ],
   "source": [
    "def round_to_nearest_integer(number):\n",
    "    return round(number)\n",
    "\n",
    "floating_numbers = [3.14, 2.718, 1.5, 0.25, 9.99]\n",
    "\n",
    "rounded_integers = list(map(round_to_nearest_integer, floating_numbers))\n",
    "\n",
    "for integer in rounded_integers:\n",
    "    print(integer)"
   ]
  },
  {
   "cell_type": "markdown",
   "id": "b819fb0f-e849-466a-868a-612461e27807",
   "metadata": {},
   "source": [
    "Reduce :-"
   ]
  },
  {
   "cell_type": "markdown",
   "id": "f59e13a1-6998-4fb4-a2c0-eb52a29abd13",
   "metadata": {},
   "source": [
    "1. What is the `reduce()` function in Python, and what module should you import to use it? Provide an example of its basic usage."
   ]
  },
  {
   "cell_type": "markdown",
   "id": "2e506081-fa1b-4fe6-b6df-2f570a9f5ded",
   "metadata": {},
   "source": [
    "The reduce(fun,seq) function is used to apply a particular function passed in its argument to all of the list elements mentioned in the sequence passed along.This function is defined in “functools” module.\n",
    "\n",
    "functools.reduce(function, iterable[, initializer])\n",
    "\n",
    "function: The function that takes two arguments and accumulates values from the iterable. It should return the accumulated result.\n",
    "\n",
    "iterable: The iterable (e.g., list) whose elements you want to reduce.\n",
    "\n",
    "initializer (optional): An initial value for the accumulation. If provided, the function is first applied to the initializer and the first element of the iterable"
   ]
  },
  {
   "cell_type": "code",
   "execution_count": 10,
   "id": "c523c7e2-390f-4971-93a1-26d53b9595cf",
   "metadata": {},
   "outputs": [
    {
     "name": "stdout",
     "output_type": "stream",
     "text": [
      "120\n"
     ]
    }
   ],
   "source": [
    "import functools\n",
    "\n",
    "def multiply(x, y):\n",
    "    return x * y\n",
    "\n",
    "numbers = [1, 2, 3, 4, 5]\n",
    "\n",
    "product = functools.reduce(multiply, numbers)\n",
    "\n",
    "print(product)"
   ]
  },
  {
   "cell_type": "markdown",
   "id": "c9c52cfe-5805-4ae0-862c-26971ad90afb",
   "metadata": {},
   "source": [
    "2. Write a Python program that uses the `reduce()` function to find the product of all elements in a list."
   ]
  },
  {
   "cell_type": "code",
   "execution_count": 11,
   "id": "b3a2d6a6-6f56-400d-a20d-8be594f0ac46",
   "metadata": {},
   "outputs": [
    {
     "name": "stdout",
     "output_type": "stream",
     "text": [
      "The product of the numbers is: 120\n"
     ]
    }
   ],
   "source": [
    "import functools\n",
    "\n",
    "def multiply(x, y):\n",
    "    return x * y\n",
    "\n",
    "numbers = [1, 2, 3, 4, 5]\n",
    "\n",
    "product = functools.reduce(multiply, numbers)\n",
    "\n",
    "print(f\"The product of the numbers is: {product}\")"
   ]
  },
  {
   "cell_type": "markdown",
   "id": "bc25c997-f428-42ff-b8af-6e677fc035d4",
   "metadata": {},
   "source": [
    "3. Create a Python program that uses `reduce()` to find the maximum element in a list of numbers."
   ]
  },
  {
   "cell_type": "code",
   "execution_count": 12,
   "id": "65406733-3c63-4652-bf24-a789f2e0f48f",
   "metadata": {},
   "outputs": [
    {
     "name": "stdout",
     "output_type": "stream",
     "text": [
      "5\n"
     ]
    }
   ],
   "source": [
    "import functools\n",
    "\n",
    "def find_max(x,y):\n",
    "    return x if x > y else y\n",
    "\n",
    "numbers = [1,2,3,4,5]\n",
    "\n",
    "max = functools.reduce(find_max, numbers)\n",
    "\n",
    "print(max)"
   ]
  },
  {
   "cell_type": "markdown",
   "id": "00b86e1d-8871-417b-896a-60d6d91a6d44",
   "metadata": {},
   "source": [
    "4. How can you use the `reduce()` function to concatenate a list of strings into a single string?"
   ]
  },
  {
   "cell_type": "code",
   "execution_count": 13,
   "id": "18f9dd30-7a9a-440e-9baf-c60456456c20",
   "metadata": {},
   "outputs": [
    {
     "name": "stdout",
     "output_type": "stream",
     "text": [
      "Hello, World! This is a test.\n"
     ]
    }
   ],
   "source": [
    "import functools\n",
    "\n",
    "def concatenate_strings(str1, str2):\n",
    "    return str1 + str2\n",
    "\n",
    "strings = [\"Hello, \", \"World\", \"!\", \" This is a test.\"]\n",
    "\n",
    "concatenated_string = functools.reduce(concatenate_strings, strings)\n",
    "\n",
    "print(concatenated_string)"
   ]
  },
  {
   "cell_type": "markdown",
   "id": "d87985c3-e8c5-49b9-97dc-96b610514d6f",
   "metadata": {},
   "source": [
    "5. Write a Python program that calculates the factorial of a number using the `reduce()` function."
   ]
  },
  {
   "cell_type": "code",
   "execution_count": 2,
   "id": "b4b66bd8-1b42-4d6b-88d7-10924b52ac81",
   "metadata": {},
   "outputs": [
    {
     "name": "stdin",
     "output_type": "stream",
     "text": [
      "Enter a number:  5\n"
     ]
    },
    {
     "name": "stdout",
     "output_type": "stream",
     "text": [
      "The factorial of 5 is: 120\n"
     ]
    }
   ],
   "source": [
    "import functools\n",
    "\n",
    "def calculate_factorial(x, y):\n",
    "    return x * y\n",
    "\n",
    "n = int(input(\"Enter a number: \"))\n",
    "\n",
    "numbers = list(range(1, n + 1))\n",
    "\n",
    "factorial = functools.reduce(calculate_factorial, numbers, 1)\n",
    "\n",
    "print(f\"The factorial of {n} is: {factorial}\")\n"
   ]
  },
  {
   "cell_type": "markdown",
   "id": "39537217-e328-476d-8021-ec16dbf530e7",
   "metadata": {},
   "source": [
    "6. Create a Python program that uses `reduce()` to find the GCD (Greatest Common Divisor) of a list of numbers."
   ]
  },
  {
   "cell_type": "code",
   "execution_count": 1,
   "id": "52a480a5-9baf-42b5-96fb-97b878e56a09",
   "metadata": {},
   "outputs": [
    {
     "name": "stdout",
     "output_type": "stream",
     "text": [
      "The GCD of the numbers is: 12\n"
     ]
    }
   ],
   "source": [
    "import functools\n",
    "import math\n",
    "\n",
    "def calculate_gcd(x, y):\n",
    "    return math.gcd(x, y)\n",
    "\n",
    "numbers = [36, 48, 60, 72]\n",
    "\n",
    "gcd = functools.reduce(calculate_gcd, numbers)\n",
    "\n",
    "print(f\"The GCD of the numbers is: {gcd}\")"
   ]
  },
  {
   "cell_type": "markdown",
   "id": "7ce796ef-478c-4b38-b6b3-3b4fa4ce82bf",
   "metadata": {},
   "source": [
    "7. Write a Python program that uses the `reduce()` function to find the sum of the digits of a given number."
   ]
  },
  {
   "cell_type": "code",
   "execution_count": 4,
   "id": "f32f1708-3db6-454e-88bc-8e6ac242e397",
   "metadata": {},
   "outputs": [
    {
     "name": "stdin",
     "output_type": "stream",
     "text": [
      "Enter a number:  10\n"
     ]
    },
    {
     "name": "stdout",
     "output_type": "stream",
     "text": [
      "The sum of the digits of 10 is: 1\n"
     ]
    }
   ],
   "source": [
    "import functools\n",
    "\n",
    "def calculate_digit_sum(x, y):\n",
    "    return int(x) + int(y)\n",
    "\n",
    "number = int(input(\"Enter a number: \"))\n",
    "\n",
    "number_str = str(number)\n",
    "digits = list(number_str)\n",
    "\n",
    "digit_sum = functools.reduce(calculate_digit_sum, digits, 0)\n",
    "\n",
    "print(f\"The sum of the digits of {number} is: {digit_sum}\")"
   ]
  },
  {
   "cell_type": "markdown",
   "id": "f3f3152d-0128-463c-811a-97e7f1934072",
   "metadata": {},
   "source": [
    "Filter :-"
   ]
  },
  {
   "cell_type": "markdown",
   "id": "05828b33-3163-4b47-b535-d39683340d64",
   "metadata": {},
   "source": [
    "1. Explain the purpose of the `filter()` function in Python and provide an example of how it can be used to filter elements from an iterable."
   ]
  },
  {
   "cell_type": "markdown",
   "id": "bb4982d7-1d6d-478f-a271-adcee7916075",
   "metadata": {},
   "source": [
    "The filter() function in Python is used to filter elements from an iterable (e.g., a list, tuple, or other iterable) based on a given condition. It returns an iterator that contains the elements from the original iterable for which the condition is True.\n",
    "\n",
    "filter(function, iterable)\n",
    "\n",
    "function: A function that defines the condition for filtering. This function should return True or False for each element in the iterable.\n",
    "\n",
    "iterable: The iterable containing the elements| want to filter."
   ]
  },
  {
   "cell_type": "code",
   "execution_count": 5,
   "id": "7276df74-a59e-4785-a247-481d198f680d",
   "metadata": {},
   "outputs": [
    {
     "name": "stdout",
     "output_type": "stream",
     "text": [
      "[2, 4, 6, 8, 10]\n"
     ]
    }
   ],
   "source": [
    "def is_even(x):\n",
    "    return x % 2 == 0\n",
    "\n",
    "numbers = [1, 2, 3, 4, 5, 6, 7, 8, 9, 10]\n",
    "\n",
    "even_numbers = filter(is_even, numbers)\n",
    "\n",
    "even_numbers_list = list(even_numbers)\n",
    "\n",
    "print(even_numbers_list)"
   ]
  },
  {
   "cell_type": "markdown",
   "id": "13448b8e-b841-466e-adee-b4876f1872fa",
   "metadata": {},
   "source": [
    "2. Write a Python program that uses the `filter()` function to select even numbers from a list of integers."
   ]
  },
  {
   "cell_type": "code",
   "execution_count": 9,
   "id": "aad91261-e499-4fb1-aa6d-bf7423782ec8",
   "metadata": {},
   "outputs": [
    {
     "name": "stdout",
     "output_type": "stream",
     "text": [
      "[2, 4, 6, 8, 10]\n"
     ]
    }
   ],
   "source": [
    "def is_even(x):\n",
    "    return x % 2 == 0\n",
    "\n",
    "numbers = [1, 2, 3, 4, 5, 6, 7, 8, 9, 10]\n",
    "\n",
    "even_numbers = filter(is_even, numbers)\n",
    "\n",
    "even_numbers_list = list(even_numbers)\n",
    "\n",
    "print(even_numbers_list)"
   ]
  },
  {
   "cell_type": "markdown",
   "id": "9efb8965-6c07-4245-b3a9-27c99c9f6270",
   "metadata": {},
   "source": [
    "3. Create a Python program that uses the `filter()` function to select names that start with a specific letter from a list of strings."
   ]
  },
  {
   "cell_type": "code",
   "execution_count": 10,
   "id": "5bc2dc86-3ed6-4750-84fb-d92c8ce87d46",
   "metadata": {},
   "outputs": [
    {
     "name": "stdout",
     "output_type": "stream",
     "text": [
      "['Charlie']\n"
     ]
    }
   ],
   "source": [
    "def starts_with_letter(letter, name):\n",
    "    return name.startswith(letter)\n",
    "\n",
    "names = [\"Alice\", \"Bob\", \"Charlie\", \"David\", \"Eva\", \"Frank\"]\n",
    "\n",
    "letter_to_filter = \"C\"\n",
    "\n",
    "filtered_names = filter(lambda name: starts_with_letter(letter_to_filter, name), names)\n",
    "\n",
    "filtered_names_list = list(filtered_names)\n",
    "\n",
    "print(filtered_names_list)"
   ]
  },
  {
   "cell_type": "markdown",
   "id": "c4972932-7571-4968-87e6-770216b6dfdc",
   "metadata": {},
   "source": [
    "4. Write a Python program that uses the `filter()` function to select prime numbers from a list of integers.\n"
   ]
  },
  {
   "cell_type": "code",
   "execution_count": 11,
   "id": "b442315f-4574-4b2b-9deb-32998f6df4fd",
   "metadata": {},
   "outputs": [
    {
     "name": "stdout",
     "output_type": "stream",
     "text": [
      "[2, 3, 5, 7]\n"
     ]
    }
   ],
   "source": [
    "def is_prime(n):\n",
    "    if n <= 1:\n",
    "        return False\n",
    "    if n <= 3:\n",
    "        return True\n",
    "    if n % 2 == 0 or n % 3 == 0:\n",
    "        return False\n",
    "    i = 5\n",
    "    while i * i <= n:\n",
    "        if n % i == 0 or n % (i + 2) == 0:\n",
    "            return False\n",
    "        i += 6\n",
    "    return True\n",
    "\n",
    "numbers = [1, 2, 3, 4, 5, 6, 7, 8, 9, 10]\n",
    "\n",
    "prime_numbers = filter(is_prime, numbers)\n",
    "\n",
    "prime_numbers_list = list(prime_numbers)\n",
    "\n",
    "print(prime_numbers_list)"
   ]
  },
  {
   "cell_type": "markdown",
   "id": "1dd3de04-88b5-4269-a0d8-7b0b1f798582",
   "metadata": {},
   "source": [
    "5. How can you use the `filter()` function to remove None values from a list in Python?"
   ]
  },
  {
   "cell_type": "code",
   "execution_count": 12,
   "id": "656aace1-1d9e-4794-90a5-0fee5eba6963",
   "metadata": {},
   "outputs": [
    {
     "name": "stdout",
     "output_type": "stream",
     "text": [
      "[1, 2, 3, 4, 5]\n"
     ]
    }
   ],
   "source": [
    "my_list = [1, None, 2, None, 3, 4, None, 5]\n",
    "\n",
    "def remove_none(item):\n",
    "    return item is not None\n",
    "\n",
    "filtered_list = list(filter(remove_none, my_list))\n",
    "\n",
    "print(filtered_list)"
   ]
  },
  {
   "cell_type": "markdown",
   "id": "fb4b21fd-6eac-4d6f-8f92-3d39bd16de9b",
   "metadata": {},
   "source": [
    "6. Create a Python program that uses `filter()` to select words longer than a certain length from a list of strings."
   ]
  },
  {
   "cell_type": "code",
   "execution_count": 14,
   "id": "3086f174-9cfe-496b-9bc7-7b89fe7b18aa",
   "metadata": {},
   "outputs": [
    {
     "name": "stdout",
     "output_type": "stream",
     "text": [
      "['banana', 'cherry', 'elderberry']\n"
     ]
    }
   ],
   "source": [
    "words = [\"apple\", \"banana\", \"cherry\", \"date\", \"elderberry\", \"fig\"]\n",
    "\n",
    "min_length = 5\n",
    "\n",
    "def is_long_word(word):\n",
    "    return len(word) > min_length\n",
    "\n",
    "long_words = filter(is_long_word, words)\n",
    "\n",
    "long_words_list = list(long_words)\n",
    "\n",
    "print(long_words_list)"
   ]
  },
  {
   "cell_type": "markdown",
   "id": "a78882a0-3e94-48e3-b64a-a02c961e19fc",
   "metadata": {},
   "source": [
    "7. Write a Python program that uses the `filter()` function to select elements greater than a specified threshold from a list of values."
   ]
  },
  {
   "cell_type": "code",
   "execution_count": 15,
   "id": "96227d97-b036-424b-acc0-a79ec6cc8eef",
   "metadata": {},
   "outputs": [
    {
     "name": "stdout",
     "output_type": "stream",
     "text": [
      "[25, 30]\n"
     ]
    }
   ],
   "source": [
    "values = [10, 25, 7, 15, 30, 5]\n",
    "\n",
    "threshold = 20\n",
    "\n",
    "def is_greater_than_threshold(value):\n",
    "    return value > threshold\n",
    "\n",
    "selected_values = filter(is_greater_than_threshold, values)\n",
    "\n",
    "selected_values_list = list(selected_values)\n",
    "\n",
    "print(selected_values_list)"
   ]
  },
  {
   "cell_type": "markdown",
   "id": "c07e7304-c05a-4394-9975-e1b767262e63",
   "metadata": {},
   "source": [
    "Recursion:-"
   ]
  },
  {
   "cell_type": "markdown",
   "id": "a8a9f56e-0b83-4a7b-91b1-94748db445ac",
   "metadata": {},
   "source": [
    "1. Explain the concept of recursion in Python. How does it differ from iteration?"
   ]
  },
  {
   "cell_type": "markdown",
   "id": "f4b6634b-5976-45a7-83cc-d9d208e36af4",
   "metadata": {},
   "source": [
    "Recursion is a programming technique where a function calls itself to solve a smaller instance of the same problem. In a recursive function, the problem is divided into smaller subproblems, and the function keeps calling itself on these subproblems until it reaches a base case (a condition where the recursion stops). At that point, the function starts returning results, and these results are combined to solve the original problem. "
   ]
  },
  {
   "cell_type": "code",
   "execution_count": 1,
   "id": "0aa599ac-6c2c-4a11-a93e-7ad7711d7c17",
   "metadata": {},
   "outputs": [],
   "source": [
    "def factorial(n):\n",
    "    if n == 0:\n",
    "        return 1\n",
    "    else:\n",
    "        return n * factorial(n - 1)"
   ]
  },
  {
   "cell_type": "markdown",
   "id": "4eb08ea2-d7d7-4c45-9e4f-0f8db9f34581",
   "metadata": {},
   "source": [
    "2. Write a Python program to calculate the factorial of a number using recursion."
   ]
  },
  {
   "cell_type": "code",
   "execution_count": 2,
   "id": "79ab1e1c-c575-44de-8b44-86ac88c2933c",
   "metadata": {},
   "outputs": [
    {
     "name": "stdin",
     "output_type": "stream",
     "text": [
      "Enter a number:  5\n"
     ]
    },
    {
     "name": "stdout",
     "output_type": "stream",
     "text": [
      "The factorial of 5 is: 120\n"
     ]
    }
   ],
   "source": [
    "def factorial(n):\n",
    "    if n == 0:\n",
    "        return 1\n",
    "    else:\n",
    "        return n * factorial(n - 1)\n",
    "\n",
    "n = int(input(\"Enter a number: \"))\n",
    "\n",
    "if n < 0:\n",
    "    print(\"Factorial is not defined for negative numbers.\")\n",
    "else:\n",
    "    result = factorial(n)\n",
    "    print(f\"The factorial of {n} is: {result}\")"
   ]
  },
  {
   "cell_type": "markdown",
   "id": "b009f520-ff43-4bde-b2d8-e178afff04b8",
   "metadata": {},
   "source": [
    "3. Create a recursive Python function to find the nth Fibonacci number."
   ]
  },
  {
   "cell_type": "code",
   "execution_count": 4,
   "id": "e9324c84-e674-4d71-88d3-bd4f336cf133",
   "metadata": {},
   "outputs": [
    {
     "name": "stdin",
     "output_type": "stream",
     "text": [
      "Enter a positive integer:  20\n"
     ]
    },
    {
     "name": "stdout",
     "output_type": "stream",
     "text": [
      "The 20th Fibonacci number is: 6765\n"
     ]
    }
   ],
   "source": [
    "def fibonacci(n):\n",
    "    if n <= 0:\n",
    "        return 0\n",
    "    elif n == 1:\n",
    "        return 1\n",
    "    else:\n",
    "        return fibonacci(n - 1) + fibonacci(n - 2)\n",
    "\n",
    "n = int(input(\"Enter a positive integer: \"))\n",
    "\n",
    "if n <= 0:\n",
    "    print(\"Please enter a positive integer.\")\n",
    "else:\n",
    "    result = fibonacci(n)\n",
    "    print(f\"The {n}th Fibonacci number is: {result}\")"
   ]
  },
  {
   "cell_type": "markdown",
   "id": "410b1223-6594-42f7-ab9d-0d63109cae7a",
   "metadata": {},
   "source": [
    "4. Write a recursive Python function to calculate the sum of all elements in a list.\n"
   ]
  },
  {
   "cell_type": "code",
   "execution_count": 9,
   "id": "320956b3-9cdc-4bd1-82b9-37f06105395b",
   "metadata": {},
   "outputs": [
    {
     "name": "stdin",
     "output_type": "stream",
     "text": [
      "Enter a list of numbers separated by spaces:  15\n"
     ]
    },
    {
     "name": "stdout",
     "output_type": "stream",
     "text": [
      "The sum of the numbers in the list is: 15\n"
     ]
    }
   ],
   "source": [
    "def recursive_sum(lst):\n",
    "    if not lst:\n",
    "        return 0\n",
    "    else:\n",
    "        return lst[0] + recursive_sum(lst[1:])\n",
    "\n",
    "input_list = input(\"Enter a list of numbers separated by spaces: \").split()\n",
    "numbers = [int(x) for x in input_list]\n",
    "\n",
    "result = recursive_sum(numbers)\n",
    "\n",
    "print(f\"The sum of the numbers in the list is: {result}\")"
   ]
  },
  {
   "cell_type": "markdown",
   "id": "94d7b99f-27c6-46c2-8499-6cc20f74d0d8",
   "metadata": {},
   "source": [
    "5. How can you prevent a recursive function from running indefinitely, causing a stack overflow error?"
   ]
  },
  {
   "cell_type": "markdown",
   "id": "3b432509-5a71-4f43-8839-c1e3b2d9ece5",
   "metadata": {},
   "source": [
    "Set a recursion depth limit using the sys.setrecursionlimit() function. However, this should be used with caution, as it can potentially lead to segmentation faults or other issues if set to an excessively large value. It's generally better to design your algorithms with well-defined base cases and proper progress toward those base cases.\n",
    "\n",
    "Recursive solutions are not always the most efficient or practical choice for every problem. In some cases, an iterative approach may be more suitable and easier to manage, especially when the problem doesn't naturally lend itself to recursion."
   ]
  },
  {
   "cell_type": "code",
   "execution_count": 10,
   "id": "b26cfeae-f8de-4020-861c-e0ccc5bce2b2",
   "metadata": {},
   "outputs": [],
   "source": [
    "def factorial(n):\n",
    "    # Base case: Stop recursion when n is 0 or 1.\n",
    "    if n == 0 or n == 1:\n",
    "        return 1\n",
    "    # Recursive case: Progress toward the base case.\n",
    "    else:\n",
    "        return n * factorial(n - 1)"
   ]
  },
  {
   "cell_type": "markdown",
   "id": "12f7f599-5d9e-42ad-9d99-007ad5302e1f",
   "metadata": {},
   "source": [
    "6. Create a recursive Python function to find the greatest common divisor (GCD) of two numbers using the Euclidean algorithm."
   ]
  },
  {
   "cell_type": "code",
   "execution_count": null,
   "id": "865ff6d9-d721-4df9-b690-bf8ecda96114",
   "metadata": {},
   "outputs": [
    {
     "name": "stdin",
     "output_type": "stream",
     "text": [
      "Enter the first number:  5\n",
      "Enter the second number:  10\n"
     ]
    },
    {
     "name": "stdout",
     "output_type": "stream",
     "text": [
      "The greatest common divisor of 5 and 10 is: 5\n"
     ]
    }
   ],
   "source": [
    "def gcd(a, b):\n",
    "    if b == 0:\n",
    "        return a\n",
    "    else:\n",
    "        return gcd(b, a % b)\n",
    "\n",
    "a = int(input(\"Enter the first number: \"))\n",
    "b = int(input(\"Enter the second number: \"))\n",
    "\n",
    "# Calculate the GCD using the recursive function\n",
    "result = gcd(a, b)\n",
    "\n",
    "print(f\"The greatest common divisor of {a} and {b} is: {result}\")"
   ]
  },
  {
   "cell_type": "markdown",
   "id": "067fbc61-cfac-4c45-ba69-477e6113dd29",
   "metadata": {},
   "source": [
    "7. Write a recursive Python function to reverse a string."
   ]
  },
  {
   "cell_type": "code",
   "execution_count": 12,
   "id": "8deff7a1-53fc-4082-a70d-08c65c382fad",
   "metadata": {},
   "outputs": [
    {
     "name": "stdin",
     "output_type": "stream",
     "text": [
      "Enter a string:  shweta\n"
     ]
    },
    {
     "name": "stdout",
     "output_type": "stream",
     "text": [
      "The reversed string is: atewhs\n"
     ]
    }
   ],
   "source": [
    "def reverse_string(input_str):\n",
    "    # Base case: if the string is empty or has only one character, return itself\n",
    "    if len(input_str) <= 1:\n",
    "        return input_str\n",
    "    # Recursive case: reverse the substring excluding the first character,\n",
    "    # and append the first character at the end\n",
    "    else:\n",
    "        return reverse_string(input_str[1:]) + input_str[0]\n",
    "\n",
    "input_str = input(\"Enter a string: \")\n",
    "\n",
    "# Call the recursive function to reverse the string\n",
    "result = reverse_string(input_str)\n",
    "\n",
    "print(f\"The reversed string is: {result}\")"
   ]
  },
  {
   "cell_type": "markdown",
   "id": "1e8dbacd-2fb3-4388-96a3-73af491f9f99",
   "metadata": {},
   "source": [
    "8. Create a recursive Python function to calculate the power of a number (x^n).\n"
   ]
  },
  {
   "cell_type": "code",
   "execution_count": 14,
   "id": "67227821-19cd-43fc-b652-9625a003b101",
   "metadata": {},
   "outputs": [
    {
     "name": "stdin",
     "output_type": "stream",
     "text": [
      "Enter the base (x):  5\n",
      "Enter the exponent (n):  2\n"
     ]
    },
    {
     "name": "stdout",
     "output_type": "stream",
     "text": [
      "5.0^2 is: 25.0\n"
     ]
    }
   ],
   "source": [
    "def power(x, n):\n",
    "    if n == 0:\n",
    "        return 1\n",
    "    elif n < 0:\n",
    "        return 1 / power(x, -n)\n",
    "    else:\n",
    "        return x * power(x, n - 1)\n",
    "\n",
    "x = float(input(\"Enter the base (x): \"))\n",
    "n = int(input(\"Enter the exponent (n): \"))\n",
    "\n",
    "# Calculate the power using the recursive function\n",
    "result = power(x, n)\n",
    "\n",
    "print(f\"{x}^{n} is: {result}\")"
   ]
  },
  {
   "cell_type": "markdown",
   "id": "3e8e2aaa-7f3b-44eb-a0e2-470c86dc2727",
   "metadata": {},
   "source": [
    "9. Write a recursive Python function to find all permutations of a given string."
   ]
  },
  {
   "cell_type": "code",
   "execution_count": 16,
   "id": "13f2d098-54f9-43ee-a7e2-c4b86bf7a957",
   "metadata": {},
   "outputs": [
    {
     "name": "stdin",
     "output_type": "stream",
     "text": [
      "Enter a string:  ata\n"
     ]
    },
    {
     "name": "stdout",
     "output_type": "stream",
     "text": [
      "All permutations of 'ata':\n",
      "ata\n",
      "aat\n",
      "taa\n",
      "taa\n",
      "aat\n",
      "ata\n"
     ]
    }
   ],
   "source": [
    "def get_permutations(input_str):\n",
    "    if len(input_str) == 0:\n",
    "        return [\"\"]\n",
    "    \n",
    "    permutations = []\n",
    "    \n",
    "    for i in range(len(input_str)):\n",
    "        first_char = input_str[i]\n",
    "        remaining_chars = input_str[:i] + input_str[i+1:]\n",
    "        \n",
    "        for sub_permutation in get_permutations(remaining_chars):\n",
    "            permutations.append(first_char + sub_permutation)\n",
    "    \n",
    "    return permutations\n",
    "\n",
    "input_str = input(\"Enter a string: \")\n",
    "\n",
    "# Call the recursive function to get permutations\n",
    "permutations = get_permutations(input_str)\n",
    "\n",
    "# Print the permutations\n",
    "print(f\"All permutations of '{input_str}':\")\n",
    "for perm in permutations:\n",
    "    print(perm)"
   ]
  },
  {
   "cell_type": "markdown",
   "id": "acb44adf-1340-4365-92aa-349f172129e1",
   "metadata": {},
   "source": [
    "10. Write a recursive Python function to check if a string is a palindrome."
   ]
  },
  {
   "cell_type": "code",
   "execution_count": 18,
   "id": "73b47345-57a5-4bb9-86a1-15ad09b1866a",
   "metadata": {},
   "outputs": [
    {
     "name": "stdin",
     "output_type": "stream",
     "text": [
      "Enter a string:  madam\n"
     ]
    },
    {
     "name": "stdout",
     "output_type": "stream",
     "text": [
      "'madam' is a palindrome.\n"
     ]
    }
   ],
   "source": [
    "def is_palindrome(input_str):\n",
    "    # Base case: a string of length 0 or 1 is always a palindrome\n",
    "    if len(input_str) <= 1:\n",
    "        return True\n",
    "    # Recursive case: check if the first and last characters are equal,\n",
    "    # then recursively check the substring in between.\n",
    "    elif input_str[0] == input_str[-1]:\n",
    "        return is_palindrome(input_str[1:-1])\n",
    "    else:\n",
    "        return False\n",
    "\n",
    "input_str = input(\"Enter a string: \")\n",
    "\n",
    "# Remove spaces and convert to lowercase for case-insensitive comparison\n",
    "input_str = input_str.replace(\" \", \"\").lower()\n",
    "\n",
    "if is_palindrome(input_str):\n",
    "    print(f\"'{input_str}' is a palindrome.\")\n",
    "else:\n",
    "    print(f\"'{input_str}' is not a palindrome.\")"
   ]
  },
  {
   "cell_type": "markdown",
   "id": "29bc62cf-7938-44de-a5c2-811b28df3b94",
   "metadata": {},
   "source": [
    "11. Create a recursive Python function to generate all possible combinations of a list of elements."
   ]
  },
  {
   "cell_type": "code",
   "execution_count": 21,
   "id": "fe34814c-f83d-4036-8541-75f3cdfa97b6",
   "metadata": {},
   "outputs": [
    {
     "name": "stdin",
     "output_type": "stream",
     "text": [
      "Enter a list of elements separated by spaces:  shwe ta\n",
      "Enter the combination size (k):  3\n"
     ]
    },
    {
     "name": "stdout",
     "output_type": "stream",
     "text": [
      "All 3-combinations of ['shwe', 'ta']:\n"
     ]
    }
   ],
   "source": [
    "def get_combinations(elements, k):\n",
    "    if k == 0:\n",
    "        return [[]]\n",
    "    \n",
    "    if not elements:\n",
    "        return []\n",
    "    \n",
    "    first, rest = elements[0], elements[1:]\n",
    "    \n",
    "    # Combinations that include the first element\n",
    "    with_first = [[first] + combo for combo in get_combinations(rest, k - 1)]\n",
    "    \n",
    "    # Combinations that exclude the first element\n",
    "    without_first = get_combinations(rest, k)\n",
    "    \n",
    "    return with_first + without_first\n",
    "\n",
    "elements = input(\"Enter a list of elements separated by spaces: \").split()\n",
    "k = int(input(\"Enter the combination size (k): \"))\n",
    "\n",
    "# Convert elements to integers or leave as strings based on your input\n",
    "# elements = [int(x) for x in elements]\n",
    "\n",
    "combinations = get_combinations(elements, k)\n",
    "\n",
    "print(f\"All {k}-combinations of {elements}:\")\n",
    "for combo in combinations:\n",
    "    print(combo)"
   ]
  },
  {
   "cell_type": "markdown",
   "id": "963faac9-4499-43a2-a34c-10e50915399e",
   "metadata": {},
   "source": [
    "Basics of Functions:"
   ]
  },
  {
   "cell_type": "markdown",
   "id": "5651e3f5-8e79-4a26-964e-3ed2f550addb",
   "metadata": {},
   "source": [
    "1. What is a function in Python, and why is it used?"
   ]
  },
  {
   "cell_type": "markdown",
   "id": "f5f76caf-e31a-4170-8e9e-fdef1c5c9b48",
   "metadata": {},
   "source": [
    "A function is a block of reusable code that performs a specific task or set of tasks. \n",
    "Functions are used to organize and modularize your code, making it more readable, maintainable, and reusable.\n",
    "\n",
    "Function using the def keyword followed by the function name, a pair of parentheses for optional parameters, and a colon. \n",
    "The function body is indented."
   ]
  },
  {
   "cell_type": "code",
   "execution_count": 1,
   "id": "6baa5c66-68aa-4b73-940f-7b3a70ab6206",
   "metadata": {},
   "outputs": [],
   "source": [
    "def my_function(parameter1, parameter2):\n",
    "    # Function body\n",
    "    result = parameter1 + parameter2\n",
    "    return result"
   ]
  },
  {
   "cell_type": "markdown",
   "id": "0e85e3e5-cc63-4310-999d-81ba5d0092dc",
   "metadata": {},
   "source": [
    "2. How do you define a function in Python? Provide an example."
   ]
  },
  {
   "cell_type": "code",
   "execution_count": null,
   "id": "315749fc-4536-43cc-9f3e-d026003ba747",
   "metadata": {},
   "outputs": [],
   "source": [
    "Function using the def keyword followed by the function name, a pair of parentheses for optional parameters, and a colon. \n",
    "The function body is indented and contains the code to be executed when the function is called\n",
    "\n",
    "def function_name(parameters):\n",
    "    # Function body\n",
    "    # Code to perform a specific task\n",
    "    return result  # Optional: return a value"
   ]
  },
  {
   "cell_type": "code",
   "execution_count": null,
   "id": "0b91234f-ff0f-4f99-b895-c57032a44cde",
   "metadata": {},
   "outputs": [],
   "source": [
    "def add_numbers(x, y):\n",
    "    result = x + y\n",
    "    return result\n",
    "\n",
    "add_numbers is the name of the function.\n",
    "It takes two parameters, x and y\n",
    "Inside the function body, result is calculated as the sum of x and y.\n",
    "The return statement is used to send the result back to the caller of the function."
   ]
  },
  {
   "cell_type": "markdown",
   "id": "acfd2718-fffd-44c7-be8d-b3b7fbbdfa8b",
   "metadata": {},
   "source": [
    "3. Explain the difference between a function definition and a function call."
   ]
  },
  {
   "cell_type": "markdown",
   "id": "20507c13-6e9a-42bb-a2c9-332abff30a09",
   "metadata": {},
   "source": [
    "1. Function Definition:\n",
    "\n",
    "A function definition is define the structure and behavior of a function.\n",
    "It includes the def keyword followed by the function name, a pair of parentheses for optional parameters, and a colon.\n",
    "Inside the function definition, specify the code to be executed when the function is called.\n",
    "The function definition serves as a blueprint for the function's behavior but doesn't execute the code inside the function at this stage.\n",
    "It is typically written once in your code and can be reused multiple times by making function calls.\n",
    "\n",
    "def add_numbers(x, y):\n",
    "    result = x + y\n",
    "    return result\n",
    "\n",
    "2. Function Call:\n",
    "A function call is the actual execution of the function that has been defined.\n",
    "It involves using the function name followed by parentheses and providing arguments (if required) within the parentheses.\n",
    "When a function is called, the code inside the function definition is executed, and any specified parameters are passed values.\n",
    "The function call returns a result (if the function has a return statement) or performs a specific action defined within the function.\n",
    "You can make multiple function calls to the same function with different arguments or use it as needed in code.\n",
    "\n",
    "sum_result = add_numbers(5, 3)"
   ]
  },
  {
   "cell_type": "markdown",
   "id": "82b2c534-4699-476d-9bca-48fd82e85890",
   "metadata": {},
   "source": [
    "4. Write a Python program that defines a function to calculate the sum of two numbers and then calls the function."
   ]
  },
  {
   "cell_type": "code",
   "execution_count": 10,
   "id": "6a452f5e-d6ab-458f-9944-3d97ddb7ba9d",
   "metadata": {},
   "outputs": [
    {
     "name": "stdin",
     "output_type": "stream",
     "text": [
      "Enter the first number:  10\n",
      "Enter the second number:  20\n"
     ]
    },
    {
     "name": "stdout",
     "output_type": "stream",
     "text": [
      "The sum of 10.0 and 20.0 is 30.0\n"
     ]
    }
   ],
   "source": [
    "def add_numbers(x, y):\n",
    "    result = x + y\n",
    "    return result\n",
    "\n",
    "# Input numbers from the user\n",
    "num1 = float(input(\"Enter the first number: \"))\n",
    "num2 = float(input(\"Enter the second number: \"))\n",
    "\n",
    "sum_result = add_numbers(num1, num2)\n",
    "\n",
    "print(f\"The sum of {num1} and {num2} is {sum_result}\")"
   ]
  },
  {
   "cell_type": "markdown",
   "id": "c3f2d4ef-7a49-4f47-9c3d-f189d66c9541",
   "metadata": {},
   "source": [
    "5. What is a function signature, and what information does it typically include?"
   ]
  },
  {
   "cell_type": "markdown",
   "id": "96482d48-f01b-4666-bd8d-75bdd01ed58a",
   "metadata": {},
   "source": [
    "In Python, a function signature refers to the portion of a function definition that includes the function's name, parameter list, and optionally the return type (although Python is dynamically typed and doesn't require explicit return types). \n",
    "A typical function signature in Python includes:\n",
    "\n",
    "Function Name: This is the name that uniquely identifies the function within the scope of your program. \n",
    "Function names should follow Python's naming conventions (usually lowercase with underscores for readability) and be meaningful to describe their purpose.\n",
    "\n",
    "Parameter List: The list of parameters (also known as arguments) that the function accepts, enclosed within a pair of parentheses. Each parameter consists of a name and optionally a type hint, \n",
    "which indicates the expected data type of the parameter's value.\n",
    "\n",
    "Here's a complete example of a function signature in Python:\n",
    "\n",
    "def add_numbers(x: int, y: int) -> int:\n",
    "\n",
    "In this example:\n",
    "\n",
    "add_numbers is the function name.\n",
    "x and y are the parameters, each with an associated type hint (int) indicating they should be integers.\n",
    "-> int is the return type hint, indicating that the function is expected to return an integer.\n",
    "\n",
    "Python's function signatures provide a way to document and communicate the function's input requirements and expected output, making it easier for programmers to use and understand functions within their code. \n",
    "However, it's important to note that Python is dynamically typed, so type hints are not enforced at runtime but serve as documentation and can be used by external tools like linters and IDEs for code analysis."
   ]
  },
  {
   "cell_type": "markdown",
   "id": "276c5c9d-43e7-4e56-aac3-20700a0d7dd7",
   "metadata": {},
   "source": [
    "6. Create a Python function that takes two arguments and returns their product."
   ]
  },
  {
   "cell_type": "code",
   "execution_count": 11,
   "id": "d0af8c7d-7c14-4e3e-a3a8-c06b10bcc1de",
   "metadata": {},
   "outputs": [
    {
     "name": "stdout",
     "output_type": "stream",
     "text": [
      "15\n"
     ]
    }
   ],
   "source": [
    "def multiply(x, y):\n",
    "    product = x * y\n",
    "    return product\n",
    "\n",
    "result = multiply(5, 3)\n",
    "print(result)  # This will print \"15\""
   ]
  },
  {
   "cell_type": "markdown",
   "id": "855660c7-928f-469b-b3c5-d57badb75e91",
   "metadata": {},
   "source": [
    "Function Parameters and Arguments:"
   ]
  },
  {
   "cell_type": "markdown",
   "id": "8cc18a55-975f-4614-be16-30042038b60a",
   "metadata": {},
   "source": [
    "1. Explain the concepts of formal parameters and actual arguments in Python functions."
   ]
  },
  {
   "cell_type": "markdown",
   "id": "866befda-7b1e-4f11-bcb2-b52b50b2fe78",
   "metadata": {},
   "source": [
    "Formal Parameters:\n",
    "    \n",
    "Formal parameters, often simply referred to as \"parameters,\" are placeholders or variables defined in the function signature. \n",
    "They specify the data that a function expects to receive when it is called. \n",
    "\n",
    "These parameters are part of the function's definition and serve as variables to work with the input data within the function.\n",
    "Formal parameters are declared within the parentheses of the function definition and can have names and optionally type hints to specify the expected data type.\n",
    "\n",
    "def add(x, y):\n",
    "    result = x + y\n",
    "    return result\n",
    "\n",
    "2. Actual Arguments (Arguments):\n",
    "\n",
    "Actual arguments, also known as \"arguments\" or \"actual parameters,\" are the values or expressions that are provided to the function when it is called. \n",
    "These values are substituted for the formal parameters within the function's body, allowing the function to operate on specific data.\n",
    "\n",
    "Arguments are supplied within the parentheses when you call a function. \n",
    "They represent the actual data that the function will use to perform its operations.\n",
    "\n",
    "sum_result = add(5, 3)"
   ]
  },
  {
   "cell_type": "markdown",
   "id": "d5912eb2-4b35-4d1b-b776-facc4eeeb086",
   "metadata": {},
   "source": [
    "2. Write a Python program that defines a function with default argument values."
   ]
  },
  {
   "cell_type": "code",
   "execution_count": 12,
   "id": "8192aafd-edbc-4115-b457-ad6d1f0dd913",
   "metadata": {},
   "outputs": [
    {
     "name": "stdout",
     "output_type": "stream",
     "text": [
      "Hello, Guest!\n",
      "Hi, Alice!\n"
     ]
    }
   ],
   "source": [
    "def greet(name=\"Guest\", greeting=\"Hello\"):\n",
    "    message = f\"{greeting}, {name}!\"\n",
    "    return message\n",
    "\n",
    "# Call the function without providing arguments\n",
    "result1 = greet()\n",
    "print(result1)  # This will print \"Hello, Guest!\"\n",
    "\n",
    "# Call the function with custom arguments\n",
    "result2 = greet(\"Alice\", \"Hi\")\n",
    "print(result2)  # This will print \"Hi, Alice!\""
   ]
  },
  {
   "cell_type": "markdown",
   "id": "394cb80f-983e-4267-a8a9-d89bc2be8658",
   "metadata": {},
   "source": [
    "3. How do you use keyword arguments in Python function calls? Provide an example."
   ]
  },
  {
   "cell_type": "markdown",
   "id": "705a14de-bc86-4190-a1f6-bc07e2913eb7",
   "metadata": {},
   "source": [
    "Keyword arguments in function calls to specify arguments by their parameter names, rather than relying on their positional order. \n",
    "This allows to provide arguments to a function in a more explicit and readable way, especially when the function has multiple parameters. \n",
    "To use keyword arguments, can specify the parameter name followed by the = sign and the argument's value."
   ]
  },
  {
   "cell_type": "code",
   "execution_count": 13,
   "id": "d495c110-af3d-4191-b60d-5803ba5e0590",
   "metadata": {},
   "outputs": [
    {
     "name": "stdout",
     "output_type": "stream",
     "text": [
      "Name: Alice\n",
      "Age: 30\n",
      "City: New York\n"
     ]
    }
   ],
   "source": [
    "def print_person_info(name, age, city):\n",
    "    print(f\"Name: {name}\")\n",
    "    print(f\"Age: {age}\")\n",
    "    print(f\"City: {city}\")\n",
    "\n",
    "# Call the function using keyword arguments\n",
    "print_person_info(name=\"Alice\", age=30, city=\"New York\")"
   ]
  },
  {
   "cell_type": "markdown",
   "id": "b41cb376-56d8-4e25-82be-84cbcc361c26",
   "metadata": {},
   "source": [
    "We define a function called print_person_info with three parameters: name, age, and city.\n",
    "\n",
    "When we call the function, we use keyword arguments to specify the values for these parameters. \n",
    "Each argument is assigned to its corresponding parameter using the parameter name as a keyword.\n",
    "\n",
    "The function is called with name=\"Alice\", age=30, and city=\"New York\"."
   ]
  },
  {
   "cell_type": "markdown",
   "id": "1c4eabdb-2121-46d5-bf0a-0fc8c6e307eb",
   "metadata": {},
   "source": [
    "4. Create a Python function that accepts a variable number of arguments and calculates their sum."
   ]
  },
  {
   "cell_type": "code",
   "execution_count": 14,
   "id": "6b4facd3-bc55-455d-b6eb-e3b8a65f8bde",
   "metadata": {},
   "outputs": [
    {
     "name": "stdout",
     "output_type": "stream",
     "text": [
      "6\n",
      "30\n"
     ]
    }
   ],
   "source": [
    "def calculate_sum(*args):\n",
    "    total = sum(args)\n",
    "    return total\n",
    "\n",
    "# Call the function with different numbers of arguments\n",
    "result1 = calculate_sum(1, 2, 3)\n",
    "result2 = calculate_sum(4, 5, 6, 7, 8)\n",
    "\n",
    "print(result1)  # This will print \"6\" (1 + 2 + 3)\n",
    "print(result2)  # This will print \"30\" (4 + 5 + 6 + 7 + 8)"
   ]
  },
  {
   "cell_type": "markdown",
   "id": "678e2124-92a8-4947-9e3a-3ecfc632dbbe",
   "metadata": {},
   "source": [
    "5. What is the purpose of the `*args` and `**kwargs` syntax in function parameter lists?"
   ]
  },
  {
   "cell_type": "markdown",
   "id": "b91ea91d-d4be-49d4-9b68-7360e97c0007",
   "metadata": {},
   "source": [
    "The *args and **kwargs syntax in function parameter lists in Python allows you to work with a variable number of arguments in your functions, providing greater flexibility and versatility\n",
    "\n",
    "\n",
    "1. *args (Arbitrary Positional Arguments):\n",
    "\n",
    "*args is used to pass a variable number of non-keyword (positional) arguments to a function.\n",
    "It collects these arguments into a tuple, allowing you to work with them as a sequence of values.\n",
    "This is useful when we don't know in advance how many arguments the function will receive or when you want to provide a flexible interface for your function."
   ]
  },
  {
   "cell_type": "code",
   "execution_count": 15,
   "id": "f53a5dbb-8a90-4791-a20c-88801ad1b30c",
   "metadata": {},
   "outputs": [
    {
     "name": "stdout",
     "output_type": "stream",
     "text": [
      "1\n",
      "2\n",
      "3\n",
      "hello\n"
     ]
    }
   ],
   "source": [
    "def print_args(*args):\n",
    "    for arg in args:\n",
    "        print(arg)\n",
    "\n",
    "print_args(1, 2, 3, \"hello\")  # This will print all the provided arguments"
   ]
  },
  {
   "cell_type": "markdown",
   "id": "8b55030f-ac4b-4569-9d3e-48caded1de9b",
   "metadata": {},
   "source": [
    "2. **kwargs (Arbitrary Keyword Arguments):\n",
    "\n",
    "**kwargs is used to pass a variable number of keyword arguments (i.e., arguments with names) to a function.\n",
    "It collects these arguments into a dictionary, where the keys are the argument names (as strings) and the values are the corresponding values.\n",
    "This is useful when want to allow a function to accept and process a varying number of named parameters."
   ]
  },
  {
   "cell_type": "code",
   "execution_count": 16,
   "id": "81412751-2f77-44b1-8c1f-1e5aeaff0252",
   "metadata": {},
   "outputs": [
    {
     "name": "stdout",
     "output_type": "stream",
     "text": [
      "name: Alice\n",
      "age: 30\n",
      "city: New York\n"
     ]
    }
   ],
   "source": [
    "def print_kwargs(**kwargs):\n",
    "    for key, value in kwargs.items():\n",
    "        print(f\"{key}: {value}\")\n",
    "\n",
    "print_kwargs(name=\"Alice\", age=30, city=\"New York\")"
   ]
  },
  {
   "cell_type": "markdown",
   "id": "8cc1d5a6-ddaa-4760-a542-ea7579419938",
   "metadata": {},
   "source": [
    "Return Values and Scoping:"
   ]
  },
  {
   "cell_type": "markdown",
   "id": "1e7da661-e78f-4867-86b0-c2ab5d0854ab",
   "metadata": {},
   "source": [
    "1. Describe the role of the `return` statement in Python functions and provide examples."
   ]
  },
  {
   "cell_type": "markdown",
   "id": "beb8fd60-388d-484d-8398-651ca8af4c5d",
   "metadata": {},
   "source": [
    "A return statement is used to end the execution of the function call and “returns” the result (value of the expression following the return keyword) to the caller. The statements after the return statements are not executed. \n",
    "If the return statement is without any expression, then the special value None is returned\n",
    "\n",
    "Note: Return statement can not be used outside the function."
   ]
  },
  {
   "cell_type": "code",
   "execution_count": 20,
   "id": "737c1de6-57f4-4c1b-931f-84c0c41393cc",
   "metadata": {},
   "outputs": [
    {
     "name": "stdout",
     "output_type": "stream",
     "text": [
      "Total: 150, Average: 30.0\n"
     ]
    }
   ],
   "source": [
    "def calculate_stats(numbers):\n",
    "    total = sum(numbers)\n",
    "    average = total / len(numbers)\n",
    "    return total, average\n",
    "\n",
    "data = [10, 20, 30, 40, 50]\n",
    "total_sum, avg = calculate_stats(data)\n",
    "print(f\"Total: {total_sum}, Average: {avg}\")"
   ]
  },
  {
   "cell_type": "markdown",
   "id": "97ebe8b3-f963-41c6-a7c8-205c1696307d",
   "metadata": {},
   "source": [
    "2. Explain the concept of variable scope in Python, including local and global variables."
   ]
  },
  {
   "cell_type": "markdown",
   "id": "d6a5b7e2-1535-47fb-82f5-648ef3b6cfbe",
   "metadata": {},
   "source": [
    "Python Global variables are those which are not defined inside any function and have a global scope.\n",
    "\n",
    "whereas Python local variables are those which are defined inside a function and their scope is limited to that function only.\n",
    "\n",
    "In other words, we can say that local variables are accessible only inside the function in which it was initialized.\n",
    "\n",
    "whereas the global variables are accessible throughout the program and inside every function. "
   ]
  },
  {
   "cell_type": "code",
   "execution_count": 21,
   "id": "632d527d-c5bd-4af5-b46c-daf213b464f4",
   "metadata": {},
   "outputs": [
    {
     "name": "stdout",
     "output_type": "stream",
     "text": [
      "10\n"
     ]
    }
   ],
   "source": [
    "def my_function():\n",
    "    x = 10  # This is a local variable\n",
    "    print(x)\n",
    "\n",
    "my_function()\n",
    "# The following line would result in an error because x is not defined in this scope:\n",
    "# print(x)"
   ]
  },
  {
   "cell_type": "code",
   "execution_count": 22,
   "id": "e4d59964-1e29-473d-ad19-ce78c3b20236",
   "metadata": {},
   "outputs": [
    {
     "name": "stdout",
     "output_type": "stream",
     "text": [
      "10\n"
     ]
    }
   ],
   "source": [
    "x = 10  # This is a global variable\n",
    "\n",
    "def my_function():\n",
    "    print(x)  # Accessing the global variable\n",
    "\n",
    "my_function()  # This will print 10"
   ]
  },
  {
   "cell_type": "markdown",
   "id": "9e2647fb-7212-4180-ba13-bc168d0d80eb",
   "metadata": {},
   "source": [
    "3. Write a Python program that demonstrates the use of global variables within functions."
   ]
  },
  {
   "cell_type": "code",
   "execution_count": 23,
   "id": "a5c32e6f-f1e1-4647-a9c7-0e95946a5e8a",
   "metadata": {},
   "outputs": [
    {
     "name": "stdout",
     "output_type": "stream",
     "text": [
      "Initial global variable value: 10\n",
      "Modified global variable value: 15\n",
      "Global variable: 15\n"
     ]
    }
   ],
   "source": [
    "# Define a global variable\n",
    "global_var = 10\n",
    "\n",
    "# Define a function that uses the global variable\n",
    "def modify_global_variable():\n",
    "    global global_var  # Declare global_var as a global variable within the function\n",
    "    global_var += 5\n",
    "\n",
    "# Define another function that reads the global variable\n",
    "def read_global_variable():\n",
    "    print(f\"Global variable: {global_var}\")\n",
    "\n",
    "# Display the initial value of the global variable\n",
    "print(f\"Initial global variable value: {global_var}\")\n",
    "\n",
    "# Call the function that modifies the global variable\n",
    "modify_global_variable()\n",
    "\n",
    "# Display the modified value of the global variable\n",
    "print(f\"Modified global variable value: {global_var}\")\n",
    "\n",
    "# Call the function that reads the global variable\n",
    "read_global_variable()"
   ]
  },
  {
   "cell_type": "markdown",
   "id": "e5b3f104-3233-4323-b4f4-26cc264658e5",
   "metadata": {},
   "source": [
    "4. Create a Python function that calculates the factorial of a number and returns it."
   ]
  },
  {
   "cell_type": "code",
   "execution_count": 25,
   "id": "f804aa35-e4c9-4f0a-9d7d-b1e5ad7d12ae",
   "metadata": {},
   "outputs": [],
   "source": [
    "def factorial(n):\n",
    "    if n < 0:\n",
    "        return \"Factorial is not defined for negative numbers\"\n",
    "    elif n == 0 or n == 1:\n",
    "        return 1\n",
    "    else:\n",
    "        result = 1\n",
    "        for i in range(2, n + 1):\n",
    "            result *= i\n",
    "        return result"
   ]
  },
  {
   "cell_type": "code",
   "execution_count": 26,
   "id": "6d0c3b4e-386c-4f2f-8d09-07f25ecbd36e",
   "metadata": {},
   "outputs": [
    {
     "name": "stdout",
     "output_type": "stream",
     "text": [
      "Factorial is not defined for negative numbers\n"
     ]
    }
   ],
   "source": [
    "print(factorial(-3))"
   ]
  },
  {
   "cell_type": "markdown",
   "id": "8d5e2640-2fb1-41b4-8cb0-9097d1286a4c",
   "metadata": {},
   "source": [
    "5. How can you access variables defined outside a function from within the function?"
   ]
  },
  {
   "cell_type": "markdown",
   "id": "f6799ebe-63b5-4198-b4a0-fb3f0ea1bced",
   "metadata": {},
   "source": [
    "In Python, Can access variables defined outside a function from within the function by simply referencing the variable name within the function's code."
   ]
  },
  {
   "cell_type": "code",
   "execution_count": 28,
   "id": "7515b54e-99e4-4cb5-bb32-466d1ac94a92",
   "metadata": {},
   "outputs": [
    {
     "name": "stdout",
     "output_type": "stream",
     "text": [
      "Inside the function: global_var = 42\n",
      "Outside the function: global_var = 42\n"
     ]
    }
   ],
   "source": [
    "global_var = 42  # This is a global variable\n",
    "\n",
    "def access_global_variable():\n",
    "    print(\"Inside the function: global_var =\", global_var)\n",
    "\n",
    "access_global_variable()\n",
    "print(\"Outside the function: global_var =\", global_var)"
   ]
  },
  {
   "cell_type": "markdown",
   "id": "5acb7a48-be81-4972-87c7-e8786d5e4002",
   "metadata": {},
   "source": [
    "Lambda Functions and Higher-Order Functions:"
   ]
  },
  {
   "cell_type": "markdown",
   "id": "082b831e-628e-467f-ac71-55f002775c44",
   "metadata": {},
   "source": [
    "1. What are lambda functions in Python, and when are they typically used?"
   ]
  },
  {
   "cell_type": "markdown",
   "id": "44d69aea-ac47-47cc-b96e-fe55d707740f",
   "metadata": {},
   "source": [
    "A lambda function is a small, anonymous function that is defined using the lambda keyword. \n",
    "Lambda functions are also known as anonymous functions or lambda expressions. \n",
    "They are typically used for simple, one-liner operations and are especially handy when you need to pass a function as an argument to another function or when you need a short function for a short period of time.\n",
    "\n",
    "lambda arguments: expression\n",
    "\n",
    "lambda: The keyword used to define a lambda function.\n",
    "arguments: The input parameters or arguments that the lambda function takes.\n",
    "expression: The single expression that the lambda function evaluates and returns.\n",
    "\n",
    "Lambda functions are often used with functions like map(), filter(), and reduce() or when defining sorting criteria for functions like sorted()."
   ]
  },
  {
   "cell_type": "code",
   "execution_count": null,
   "id": "295a3fc0-29f9-4d02-be00-fa16e4860805",
   "metadata": {},
   "outputs": [],
   "source": [
    "1. Using lambda with map() to apply a function to each element in a list:\n",
    "\n",
    "numbers = [1, 2, 3, 4, 5]\n",
    "squared_numbers = list(map(lambda x: x**2, numbers))\n",
    "# squared_numbers will be [1, 4, 9, 16, 25]\n",
    "\n",
    "2. Using lambda with filter() to filter a list based on a condition:\n",
    "numbers = [1, 2, 3, 4, 5, 6, 7, 8, 9]\n",
    "even_numbers = list(filter(lambda x: x % 2 == 0, numbers))\n",
    "# even_numbers will be [2, 4, 6, 8]\n",
    "\n",
    "3. Using lambda with sorted() to sort a list of tuples based on a specific element:\n",
    "students = [('Alice', 90), ('Bob', 85), ('Charlie', 95)]\n",
    "sorted_students = sorted(students, key=lambda x: x[1], reverse=True)\n",
    "# sorted_students will be [('Charlie', 95), ('Alice', 90), ('Bob', 85)]"
   ]
  },
  {
   "cell_type": "markdown",
   "id": "7d88ccdc-a861-4f12-a374-d0bd6a48c887",
   "metadata": {},
   "source": [
    "2. Write a Python program that uses lambda functions to sort a list of tuples based on the second element."
   ]
  },
  {
   "cell_type": "code",
   "execution_count": 1,
   "id": "c81f434b-e498-419a-89c2-a8b56f24a757",
   "metadata": {},
   "outputs": [
    {
     "name": "stdout",
     "output_type": "stream",
     "text": [
      "('Bob', 85)\n",
      "('David', 88)\n",
      "('Alice', 90)\n",
      "('Charlie', 95)\n"
     ]
    }
   ],
   "source": [
    "students = [('Alice', 90), ('Bob', 85), ('Charlie', 95), ('David', 88)]\n",
    "\n",
    "# Sort the list of tuples based on the second element (marks)\n",
    "sorted_students = sorted(students, key=lambda x: x[1])\n",
    "\n",
    "for student in sorted_students:\n",
    "    print(student)"
   ]
  },
  {
   "cell_type": "markdown",
   "id": "57ccb1b6-62ec-47bb-9b88-7bf4170ac162",
   "metadata": {},
   "source": [
    "3. Explain the concept of higher-order functions in Python, and provide an example."
   ]
  },
  {
   "cell_type": "markdown",
   "id": "9fae29d1-d12e-40c3-9d51-5edfeb2e5915",
   "metadata": {},
   "source": [
    "Higher-order functions are functions that take a function as a parameter and/or return a function as an its result\n",
    "A few useful higher-order functions are map() , filter() , and reduce() . \n",
    "map() and filter() are built-in functions, whereas reduce() is contained in functools() module.\n",
    "\n",
    "They allow you to abstract and encapsulate behavior, making your code more expressive and easier to maintain."
   ]
  },
  {
   "cell_type": "code",
   "execution_count": 2,
   "id": "979e917f-dbc9-4ef3-88d0-874d2e0370e2",
   "metadata": {},
   "outputs": [
    {
     "name": "stdout",
     "output_type": "stream",
     "text": [
      "Result of addition: 8\n",
      "Result of subtraction: 6\n",
      "Result of multiplication: 24\n",
      "Result of division: 5.0\n"
     ]
    }
   ],
   "source": [
    "# Define a higher-order function that takes a function as an argument\n",
    "def apply_operation(operation, x, y):\n",
    "    return operation(x, y)\n",
    "\n",
    "# Define some simple functions that we can use as arguments\n",
    "def add(x, y):\n",
    "    return x + y\n",
    "\n",
    "def subtract(x, y):\n",
    "    return x - y\n",
    "\n",
    "def multiply(x, y):\n",
    "    return x * y\n",
    "\n",
    "def divide(x, y):\n",
    "    if y == 0:\n",
    "        return \"Division by zero is not allowed.\"\n",
    "    return x / y\n",
    "\n",
    "# Use the higher-order function with different operations\n",
    "result1 = apply_operation(add, 5, 3)\n",
    "result2 = apply_operation(subtract, 8, 2)\n",
    "result3 = apply_operation(multiply, 4, 6)\n",
    "result4 = apply_operation(divide, 10, 2)\n",
    "\n",
    "# Print the results\n",
    "print(\"Result of addition:\", result1)      # Result of addition: 8\n",
    "print(\"Result of subtraction:\", result2)   # Result of subtraction: 6\n",
    "print(\"Result of multiplication:\", result3) # Result of multiplication: 24\n",
    "print(\"Result of division:\", result4)       # Result of division: 5.0"
   ]
  },
  {
   "cell_type": "markdown",
   "id": "30487da7-3393-4aaa-b0be-42943e6a1016",
   "metadata": {},
   "source": [
    "4. Create a Python function that takes a list of numbers and a function as arguments, applying the function to each element in the list."
   ]
  },
  {
   "cell_type": "code",
   "execution_count": 6,
   "id": "ff3619be-c351-4ae3-8b2a-53c17becbb2d",
   "metadata": {},
   "outputs": [
    {
     "name": "stdout",
     "output_type": "stream",
     "text": [
      "[2, 4, 6]\n"
     ]
    }
   ],
   "source": [
    "def double(integer):\n",
    "\treturn integer*2\n",
    "\n",
    "\n",
    "# driver code\n",
    "integer_list = [1, 2, 3]\n",
    "\n",
    "# Map method returns a map object\n",
    "# so we cast it into list using list()\n",
    "output_list = list(map(double, integer_list))\n",
    "\n",
    "print(output_list)"
   ]
  },
  {
   "cell_type": "markdown",
   "id": "0a074de6-ea52-4843-97b7-55b4cd15b69e",
   "metadata": {},
   "source": [
    "Built-in Functions:"
   ]
  },
  {
   "cell_type": "markdown",
   "id": "90fc1c0d-06dc-4336-a735-b1d60438d137",
   "metadata": {},
   "source": [
    "1. Describe the role of built-in functions like `len()`, `max()`, and `min()` in Python."
   ]
  },
  {
   "cell_type": "markdown",
   "id": "d63a435a-08f4-40fc-a26c-8d5081e3dab3",
   "metadata": {},
   "source": [
    "Built-in functions like len(), max(), and min() play essential roles in Python for performing common operations on data structures and sequences."
   ]
  },
  {
   "cell_type": "markdown",
   "id": "b94ae560-2cb7-4151-9f14-f2526a91a193",
   "metadata": {},
   "source": [
    "1. len(): The len() function is used to determine the length or the number of elements in various Python data structures. Its primary purpose is to work with sequences like strings, lists, tuples, and dictionaries (where it returns the number of key-value pairs)"
   ]
  },
  {
   "cell_type": "code",
   "execution_count": 7,
   "id": "7f176c10-1717-414d-b4e7-e0290db0afee",
   "metadata": {},
   "outputs": [],
   "source": [
    "#Example:\n",
    "\n",
    "my_string = \"Hello, World!\"\n",
    "string_length = len(my_string)  # string_length will be 13\n",
    "my_list = [1, 2, 3, 4, 5]\n",
    "list_length = len(my_list)  # list_length will be 5\n",
    "\n",
    "\n",
    "#The len() function is handy when you need to iterate through a sequence or perform actions based on its size."
   ]
  },
  {
   "cell_type": "markdown",
   "id": "5f47d7c4-71b2-4b3f-bca4-507fac62cd51",
   "metadata": {},
   "source": [
    "2. max(): The max() function is used to find the maximum value among a collection of values. It can be applied to various data types, including numeric types, strings, and even custom objects, as long as they have a well-defined comparison (e.g., using the key argument or implementing comparison methods)."
   ]
  },
  {
   "cell_type": "code",
   "execution_count": 8,
   "id": "c96db09b-4037-42d1-9b3f-a511e0dc5176",
   "metadata": {},
   "outputs": [],
   "source": [
    "#Example\n",
    "numbers = [5, 2, 9, 1, 7]\n",
    "max_number = max(numbers)  # max_number will be 9\n",
    "\n",
    "words = [\"apple\", \"banana\", \"cherry\"]\n",
    "longest_word = max(words, key=len)  # longest_word will be \"banana\"\n",
    "\n",
    "#The max() function is useful when you need to find the largest value in a collection."
   ]
  },
  {
   "cell_type": "markdown",
   "id": "5885e104-2bf9-438c-9c49-23257a81e789",
   "metadata": {},
   "source": [
    "3. min(): The min() function works similarly to max(), but it finds the minimum value among a collection of values. It can be used with the same range of data types and supports the key argument for custom comparisons."
   ]
  },
  {
   "cell_type": "code",
   "execution_count": 9,
   "id": "99eb6a54-0664-45fc-b386-2c2ae586d67b",
   "metadata": {},
   "outputs": [],
   "source": [
    "numbers = [5, 2, 9, 1, 7]\n",
    "min_number = min(numbers)  # min_number will be 1\n",
    "\n",
    "words = [\"apple\", \"banana\", \"cherry\"]\n",
    "shortest_word = min(words, key=len)  # shortest_word will be \"apple\"\n",
    "\n",
    "#The min() function is useful when you need to find the smallest value in a collection."
   ]
  },
  {
   "cell_type": "markdown",
   "id": "7f4abb91-07a7-49b6-97ae-67352bb85acf",
   "metadata": {},
   "source": [
    "These built-in functions help simplify common tasks when working with data in Python. \n",
    "\n",
    "They are part of Python's standard library and are readily available for use in programs, making code more concise and efficient."
   ]
  },
  {
   "cell_type": "markdown",
   "id": "b563dfae-f917-4b27-9ad1-04adaab5bc1c",
   "metadata": {},
   "source": [
    "2.. Write a Python program that uses the `map()` function to apply a function to each element of a list."
   ]
  },
  {
   "cell_type": "code",
   "execution_count": 10,
   "id": "3faffaae-3dcf-41b3-8cdd-b244e38b705d",
   "metadata": {},
   "outputs": [
    {
     "name": "stdout",
     "output_type": "stream",
     "text": [
      "Temperatures in Celsius: [0.0, 20.0, 35.0, 40.0, 100.0]\n"
     ]
    }
   ],
   "source": [
    "def fahrenheit_to_celsius(fahrenheit):\n",
    "    return (fahrenheit - 32) * 5/9\n",
    "\n",
    "# Create a list of temperatures in Fahrenheit\n",
    "temperatures_fahrenheit = [32, 68, 95, 104, 212]\n",
    "\n",
    "# Use the map() function to apply the conversion function to each temperature\n",
    "temperatures_celsius = list(map(fahrenheit_to_celsius, temperatures_fahrenheit))\n",
    "\n",
    "# Print the result\n",
    "print(\"Temperatures in Celsius:\", temperatures_celsius)"
   ]
  },
  {
   "cell_type": "markdown",
   "id": "c547fe30-c2ba-464e-a36b-624bf3b0a0da",
   "metadata": {},
   "source": [
    "3. How does the `filter()` function work in Python, and when would you use it?"
   ]
  },
  {
   "cell_type": "markdown",
   "id": "636fb80d-01bd-493e-8a48-d39b9a307477",
   "metadata": {},
   "source": [
    "The filter() function in Python is used to filter elements from an iterable (such as a list, tuple, or other sequence) based on a specified condition. It takes two arguments: a function that defines the condition, and an iterable containing the elements to be filtered. The filter() function returns an iterator or filter object containing the elements that satisfy the given condition.\n",
    "\n",
    "filter(function, iterable)\n",
    "\n",
    "function: A function that defines the condition for filtering. It should return True for elements that should be included in the output and False for elements that should be excluded.\n",
    "\n",
    "iterable: The iterable (e.g., a list) containing the elements to be filtered."
   ]
  },
  {
   "cell_type": "code",
   "execution_count": 12,
   "id": "961d1833-80b4-421b-8d9b-ad9c645ed40b",
   "metadata": {},
   "outputs": [
    {
     "name": "stdout",
     "output_type": "stream",
     "text": [
      "[2, 4, 6, 8, 10]\n"
     ]
    }
   ],
   "source": [
    "def is_even(x):\n",
    "    return x % 2 == 0\n",
    "\n",
    "# Create a list of numbers\n",
    "numbers = [1, 2, 3, 4, 5, 6, 7, 8, 9, 10]\n",
    "\n",
    "# Use the filter() function to filter even numbers from the list\n",
    "even_numbers = list(filter(is_even, numbers))\n",
    "\n",
    "# Print the result\n",
    "print(even_numbers)  # Output: [2, 4, 6, 8, 10]"
   ]
  },
  {
   "cell_type": "markdown",
   "id": "cafd85b4-451f-4a54-9b9d-305216fef485",
   "metadata": {},
   "source": [
    "4. Create a Python program that uses the `reduce()` function to find the product of all elements in a list."
   ]
  },
  {
   "cell_type": "code",
   "execution_count": 13,
   "id": "9926f988-f050-4f8d-b01f-abe4802aed50",
   "metadata": {},
   "outputs": [
    {
     "name": "stdout",
     "output_type": "stream",
     "text": [
      "Product of all elements: 120\n"
     ]
    }
   ],
   "source": [
    "from functools import reduce\n",
    "\n",
    "def multiply(x, y):\n",
    "    return x * y\n",
    "\n",
    "# Create a list of numbers\n",
    "numbers = [1, 2, 3, 4, 5]\n",
    "\n",
    "# Use the reduce() function to find the product of all elements in the list\n",
    "product = reduce(multiply, numbers)\n",
    "\n",
    "# Print the result\n",
    "print(\"Product of all elements:\", product)"
   ]
  },
  {
   "cell_type": "markdown",
   "id": "15bc5acd-ed3b-4501-a1d3-dfa3d4fa35d1",
   "metadata": {},
   "source": [
    "Function Documentation and Best Practices:"
   ]
  },
  {
   "cell_type": "markdown",
   "id": "cab00ce4-65c4-4a36-9d65-6885edfc2290",
   "metadata": {},
   "source": [
    "1. Explain the purpose of docstrings in Python functions and how to write them."
   ]
  },
  {
   "cell_type": "markdown",
   "id": "00a1bd40-c847-4f2b-9a9c-9f9663cbb1dc",
   "metadata": {},
   "source": [
    "Docstrings in Python are used to provide documentation for functions, modules, classes, and methods.\n",
    "They serve as a way to explain what a piece of code does, describe its inputs and outputs, and provide usage examples. Docstrings are not just for human readability; they can also be accessed programmatically using tools like help() and are often used by documentation generation tools."
   ]
  },
  {
   "cell_type": "code",
   "execution_count": 15,
   "id": "441d44c0-855a-4ced-bd96-f6368fe40edc",
   "metadata": {},
   "outputs": [],
   "source": [
    "def add(a, b):\n",
    "    \"\"\"\n",
    "    Add two numbers and return the result.\n",
    "\n",
    "    This function takes two numbers, 'a' and 'b', and returns their sum.\n",
    "\n",
    "    Args:\n",
    "        a (int): The first number.\n",
    "        b (int): The second number.\n",
    "\n",
    "    Returns:\n",
    "        int: The sum of 'a' and 'b'.\n",
    "    \"\"\"\n",
    "    return a + b"
   ]
  },
  {
   "cell_type": "markdown",
   "id": "ac961a52-08f6-4d24-a292-2e950d560e50",
   "metadata": {},
   "source": [
    "1. The first line is a brief, one-line description of the function's purpose. It should be concise and give a high-level overview of what the function does.\n",
    "\n",
    "2. The second paragraph (blank line) is used for a more detailed description of the function's behavior. This is where you can explain the function's logic, any assumptions, and any side effects.\n",
    "\n",
    "3. The \"Args\" section lists the function's parameters (arguments) along with their data types and descriptions. This helps users understand what input the function expects.\n",
    "\n",
    "4. The \"Returns\" section (optional) describes the return value(s) of the function and their data types. If a function returns multiple values, you can list them here."
   ]
  },
  {
   "cell_type": "code",
   "execution_count": 16,
   "id": "0fbab0a2-183b-48a5-a0bb-e118cfca4be5",
   "metadata": {},
   "outputs": [
    {
     "name": "stdout",
     "output_type": "stream",
     "text": [
      "Help on function add in module __main__:\n",
      "\n",
      "add(a, b)\n",
      "    Add two numbers and return the result.\n",
      "    \n",
      "    This function takes two numbers, 'a' and 'b', and returns their sum.\n",
      "    \n",
      "    Args:\n",
      "        a (int): The first number.\n",
      "        b (int): The second number.\n",
      "    \n",
      "    Returns:\n",
      "        int: The sum of 'a' and 'b'.\n",
      "\n",
      "\n",
      "    Add two numbers and return the result.\n",
      "\n",
      "    This function takes two numbers, 'a' and 'b', and returns their sum.\n",
      "\n",
      "    Args:\n",
      "        a (int): The first number.\n",
      "        b (int): The second number.\n",
      "\n",
      "    Returns:\n",
      "        int: The sum of 'a' and 'b'.\n",
      "    \n"
     ]
    }
   ],
   "source": [
    "help(add)  # Display the docstring of the 'add' function\n",
    "print(add.__doc__)  # Access the docstring programmatically"
   ]
  },
  {
   "cell_type": "markdown",
   "id": "3f5e9759-9b2d-4955-a059-903a17841209",
   "metadata": {},
   "source": [
    "2. Describe some best practices for naming functions and variables in Python, including naming conventions and guidelines."
   ]
  },
  {
   "cell_type": "markdown",
   "id": "e34a6fc4-932e-4b74-b06d-1e717a70cb67",
   "metadata": {},
   "source": [
    "Naming functions and variables in Python is crucial for writing clean, readable, and maintainable code. \n",
    "Following naming conventions and guidelines is essential to make your code more understandable to others and to ensure consistency across projects.\n",
    "Here are some best practices for naming functions and variables in Python:"
   ]
  },
  {
   "cell_type": "markdown",
   "id": "83f0b549-2925-4964-baf1-5e05d2b3ba6e",
   "metadata": {},
   "source": [
    "1. Use Descriptive Names: Choose names that clearly and concisely describe the purpose or functionality of the function or variable. \n",
    "A well-named function or variable should make its purpose evident without the need for extensive comments.\n",
    "\n"
   ]
  },
  {
   "cell_type": "code",
   "execution_count": null,
   "id": "0b0a7c10-2dd2-4016-b601-0669579752f4",
   "metadata": {},
   "outputs": [],
   "source": [
    "# Good: descriptive function name\n",
    "def calculate_total_price(item_prices):\n",
    "# Bad: unclear function name\n",
    "def calc(item_list):"
   ]
  },
  {
   "cell_type": "markdown",
   "id": "de5bbd74-a14c-4d67-a933-806e94f92346",
   "metadata": {},
   "source": [
    "2. Use lowercase with Underscores for Variables: Variable names should be in lowercase, and words should be separated by underscores (snake_case). This convention is widely used in Python and makes variable names more readable."
   ]
  },
  {
   "cell_type": "code",
   "execution_count": null,
   "id": "993ddd8f-208a-4b37-b2f2-6b70862e19ce",
   "metadata": {},
   "outputs": [],
   "source": [
    "total_price = 0  # Good\n",
    "totalPrice = 0  # Avoid using camelCase"
   ]
  },
  {
   "cell_type": "markdown",
   "id": "d7423216-9d54-463d-ae1f-ac21204fc556",
   "metadata": {},
   "source": [
    "3. Use CamelCase for Class Names: Class names should use CamelCase (also known as CapWords or PascalCase), where each word begins with a capital letter. This distinguishes class names from function and variable names."
   ]
  },
  {
   "cell_type": "code",
   "execution_count": null,
   "id": "6df98334-8ce2-498e-8076-99f8c4d2cf64",
   "metadata": {},
   "outputs": [],
   "source": [
    "class MyClass:"
   ]
  },
  {
   "cell_type": "markdown",
   "id": "501c49b8-2941-4e23-b9a2-cf37eb95953e",
   "metadata": {},
   "source": [
    "4. Use Verbs for Function Names: Function names should typically start with a verb that describes the action performed by the function. \n",
    "This makes it clear what the function does."
   ]
  },
  {
   "cell_type": "code",
   "execution_count": null,
   "id": "8f5b5fe0-c753-476b-ba35-cd03945b3552",
   "metadata": {},
   "outputs": [],
   "source": [
    "# Good\n",
    "def calculate_total_price(item_prices):\n",
    "# Bad\n",
    "def total(item_prices):"
   ]
  },
  {
   "cell_type": "markdown",
   "id": "18e5826b-737c-450f-acab-df3a81d7a31c",
   "metadata": {},
   "source": [
    "5. Avoid Single-Character Names: Except for very short-lived loop variables, avoid single-character variable names. \n",
    "Use names that provide context and meaning."
   ]
  },
  {
   "cell_type": "code",
   "execution_count": null,
   "id": "c813a866-6878-4dc5-99a7-1f4bca706319",
   "metadata": {},
   "outputs": [],
   "source": [
    "# Good\n",
    "for item in items:\n",
    "# Bad\n",
    "for i in range(len(items)):"
   ]
  },
  {
   "cell_type": "markdown",
   "id": "776f796d-06ed-402b-b4ae-080825acc453",
   "metadata": {},
   "source": [
    "6. Be Consistent: Maintain consistency in naming throughout your codebase. \n",
    "If you use a particular naming style or convention, stick to it."
   ]
  },
  {
   "cell_type": "markdown",
   "id": "659ac3ac-10fa-48f4-bcba-1726d5e59d64",
   "metadata": {},
   "source": [
    "7. Use Descriptive Variable Names: Choose variable names that clearly indicate the purpose of the variable. \n",
    "Avoid overly generic names like temp, data, or value."
   ]
  },
  {
   "cell_type": "code",
   "execution_count": null,
   "id": "e4734c33-f24d-4efa-b283-fc0b7feabcfd",
   "metadata": {},
   "outputs": [],
   "source": [
    "# Good\n",
    "customer_name = \"John\"\n",
    "# Bad\n",
    "x = \"John\""
   ]
  },
  {
   "cell_type": "markdown",
   "id": "63a28871-7c95-45c7-8adc-87fead50ad61",
   "metadata": {},
   "source": [
    "8. Avoid Using Reserved Words: Do not use Python reserved words (e.g., if, else, while, for, import, def) as variable or function names."
   ]
  },
  {
   "cell_type": "markdown",
   "id": "dc2dff00-239f-4a77-9dfa-27fd268770f4",
   "metadata": {},
   "source": [
    "9. Use Plural for Collections: When naming variables that represent collections (e.g., lists, sets, dictionaries), use plural names to indicate that they contain multiple items."
   ]
  },
  {
   "cell_type": "code",
   "execution_count": 21,
   "id": "3e45a50c-af6c-47c0-92e9-f99919c52e8c",
   "metadata": {},
   "outputs": [],
   "source": [
    "# Good\n",
    "customers = [\"John\", \"Alice\", \"Bob\"]\n",
    "# Bad\n",
    "customer = [\"John\", \"Alice\", \"Bob\"]"
   ]
  },
  {
   "cell_type": "markdown",
   "id": "09330e59-98cd-474f-b765-dd9917d14883",
   "metadata": {},
   "source": [
    "10. Provide Clear Function and Variable Signatures: Use meaningful names for function arguments and variable names within functions. \n",
    "This makes it easier to understand how to use a function and what it expects."
   ]
  },
  {
   "cell_type": "code",
   "execution_count": 20,
   "id": "f8ec42b9-ca37-4fd5-b0d9-70ea069bfa07",
   "metadata": {},
   "outputs": [],
   "source": [
    "def calculate_total_price(item_prices):\n",
    "    total_price = 0\n",
    "    for price in item_prices:\n",
    "        total_price += price\n",
    "    return total_price"
   ]
  },
  {
   "cell_type": "code",
   "execution_count": null,
   "id": "a22ff056-250c-402e-89b1-77583e202a36",
   "metadata": {},
   "outputs": [],
   "source": []
  }
 ],
 "metadata": {
  "kernelspec": {
   "display_name": "Python 3 (ipykernel)",
   "language": "python",
   "name": "python3"
  },
  "language_info": {
   "codemirror_mode": {
    "name": "ipython",
    "version": 3
   },
   "file_extension": ".py",
   "mimetype": "text/x-python",
   "name": "python",
   "nbconvert_exporter": "python",
   "pygments_lexer": "ipython3",
   "version": "3.10.8"
  }
 },
 "nbformat": 4,
 "nbformat_minor": 5
}
